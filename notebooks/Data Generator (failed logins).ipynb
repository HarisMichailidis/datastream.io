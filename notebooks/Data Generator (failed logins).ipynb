{
 "cells": [
  {
   "cell_type": "code",
   "execution_count": 1,
   "metadata": {},
   "outputs": [],
   "source": [
    "import sys\n",
    "assert sys.version_info[0] >= 3\n",
    "\n",
    "import pandas as pd\n",
    "import numpy as np\n",
    "import matplotlib.pyplot as plt\n",
    "from datetime import datetime"
   ]
  },
  {
   "cell_type": "code",
   "execution_count": null,
   "metadata": {},
   "outputs": [],
   "source": []
  },
  {
   "cell_type": "code",
   "execution_count": null,
   "metadata": {},
   "outputs": [],
   "source": []
  },
  {
   "cell_type": "markdown",
   "metadata": {},
   "source": [
    "## Init auth log data"
   ]
  },
  {
   "cell_type": "code",
   "execution_count": 2,
   "metadata": {},
   "outputs": [],
   "source": [
    "%matplotlib inline\n",
    "with open('../data/auth.log') as f:\n",
    "    init_data = f.read().split('\\n')"
   ]
  },
  {
   "cell_type": "code",
   "execution_count": 3,
   "metadata": {},
   "outputs": [
    {
     "data": {
      "text/plain": [
       "'Mar 29 23:18:19 ip-10-77-20-248 sshd[6402]: pam_unix(sshd:auth): authentication failure; logname= uid=0 euid=0 tty=ssh ruser= rhost=218.60.136.106  user=root'"
      ]
     },
     "execution_count": 3,
     "metadata": {},
     "output_type": "execute_result"
    }
   ],
   "source": [
    "example = [x for x in init_data if 'user=root' in x][0]\n",
    "example"
   ]
  },
  {
   "cell_type": "code",
   "execution_count": 4,
   "metadata": {},
   "outputs": [
    {
     "data": {
      "text/plain": [
       "'Mar 29 19:30:18 ip-10-77-20-248 sshd[5743]: Failed password for elastic_user_4 from 24.151.103.17 port 52124 ssh2'"
      ]
     },
     "execution_count": 4,
     "metadata": {},
     "output_type": "execute_result"
    }
   ],
   "source": [
    "'Mar 29 19:30:18 ip-10-77-20-248 sshd[5743]: Failed password for elastic_user_4 from 24.151.103.17 port 52124 ssh2'"
   ]
  },
  {
   "cell_type": "markdown",
   "metadata": {},
   "source": [
    "## Create logs template "
   ]
  },
  {
   "cell_type": "code",
   "execution_count": 5,
   "metadata": {},
   "outputs": [],
   "source": [
    "template = '{:%b %d %H:%M:%S} {} sshd[1234]: Failed password for {} from {} port 1234 ssh2'"
   ]
  },
  {
   "cell_type": "code",
   "execution_count": 6,
   "metadata": {},
   "outputs": [],
   "source": [
    "d = datetime(2018,3,10,10,45,10)\n",
    "hostname = 'my-host-1-2-3-4'\n",
    "ip = '192.168.10.1'\n",
    "user = 'lab_user_1'"
   ]
  },
  {
   "cell_type": "code",
   "execution_count": 7,
   "metadata": {},
   "outputs": [
    {
     "name": "stdout",
     "output_type": "stream",
     "text": [
      "2018-03-10 10:45:10 my-host-1-2-3-4 192.168.10.1 lab_user_1\n"
     ]
    }
   ],
   "source": [
    "print(d,hostname,ip,user)"
   ]
  },
  {
   "cell_type": "code",
   "execution_count": 8,
   "metadata": {},
   "outputs": [
    {
     "data": {
      "text/plain": [
       "'Mar 10 10:45:10 my-host-1-2-3-4 sshd[1234]: Failed password for lab_user_1 from 192.168.10.1 port 1234 ssh2'"
      ]
     },
     "execution_count": 8,
     "metadata": {},
     "output_type": "execute_result"
    }
   ],
   "source": [
    "template.format(d,hostname,user,ip)"
   ]
  },
  {
   "cell_type": "code",
   "execution_count": null,
   "metadata": {},
   "outputs": [],
   "source": []
  },
  {
   "cell_type": "code",
   "execution_count": null,
   "metadata": {},
   "outputs": [],
   "source": []
  },
  {
   "cell_type": "code",
   "execution_count": null,
   "metadata": {},
   "outputs": [],
   "source": []
  },
  {
   "cell_type": "markdown",
   "metadata": {},
   "source": [
    "##  Create time index generator and df "
   ]
  },
  {
   "cell_type": "code",
   "execution_count": null,
   "metadata": {},
   "outputs": [],
   "source": []
  },
  {
   "cell_type": "code",
   "execution_count": 9,
   "metadata": {},
   "outputs": [],
   "source": [
    "def create_time_index(start_date='22/3/2018 12:43:23',\n",
    "                      end_date='30/3/2018',\n",
    "                      period_minutes=120, #period in minutes\n",
    "                      noise_minutes=10): #noise in minutes\n",
    "    \n",
    "    period_minutes=int(period_minutes)\n",
    "    assert period_minutes>0\n",
    "    \n",
    "    noise_minutes = int(noise_minutes)\n",
    "    assert noise_minutes>0\n",
    "\n",
    "    dates = pd.date_range(start_date,end_date,freq='{}T'.format(period_minutes))\n",
    "    dates += pd.Series([pd.Timedelta(str(int(x))+'m') for x in np.random.normal(0, noise_minutes, dates.shape)])\n",
    "    return dates"
   ]
  },
  {
   "cell_type": "code",
   "execution_count": 10,
   "metadata": {},
   "outputs": [],
   "source": [
    "def create_df(time_index, host='my-host-1', ip='192.168.0.1', user='lab_user1'):\n",
    "    df = pd.DataFrame([[host,ip,user] for _ in time_index],\n",
    "                      columns=['host','ip','user'],\n",
    "                      index=time_index)\n",
    "    return df"
   ]
  },
  {
   "cell_type": "code",
   "execution_count": null,
   "metadata": {},
   "outputs": [],
   "source": []
  },
  {
   "cell_type": "markdown",
   "metadata": {},
   "source": [
    "### Examples"
   ]
  },
  {
   "cell_type": "code",
   "execution_count": 11,
   "metadata": {},
   "outputs": [
    {
     "data": {
      "text/plain": [
       "0     2016-01-27 14:22:23\n",
       "1     2016-01-27 14:29:23\n",
       "2     2016-01-27 14:33:23\n",
       "3     2016-01-27 14:39:23\n",
       "4     2016-01-27 14:43:23\n",
       "5     2016-01-27 14:47:23\n",
       "6     2016-01-27 14:52:23\n",
       "7     2016-01-27 14:58:23\n",
       "8     2016-01-27 15:03:23\n",
       "9     2016-01-27 15:08:23\n",
       "10    2016-01-27 15:13:23\n",
       "11    2016-01-27 15:19:23\n",
       "12    2016-01-27 15:22:23\n",
       "13    2016-01-27 15:28:23\n",
       "14    2016-01-27 15:33:23\n",
       "15    2016-01-27 15:37:23\n",
       "16    2016-01-27 15:43:23\n",
       "17    2016-01-27 15:47:23\n",
       "18    2016-01-27 15:52:23\n",
       "19    2016-01-27 15:59:23\n",
       "20    2016-01-27 16:03:23\n",
       "21    2016-01-27 16:08:23\n",
       "22    2016-01-27 16:13:23\n",
       "23    2016-01-27 16:20:23\n",
       "24    2016-01-27 16:23:23\n",
       "25    2016-01-27 16:28:23\n",
       "26    2016-01-27 16:33:23\n",
       "27    2016-01-27 16:38:23\n",
       "28    2016-01-27 16:43:23\n",
       "29    2016-01-27 16:48:23\n",
       "              ...        \n",
       "283   2016-01-28 13:58:23\n",
       "284   2016-01-28 14:03:23\n",
       "285   2016-01-28 14:08:23\n",
       "286   2016-01-28 14:13:23\n",
       "287   2016-01-28 14:18:23\n",
       "288   2016-01-28 14:23:23\n",
       "289   2016-01-28 14:29:23\n",
       "290   2016-01-28 14:33:23\n",
       "291   2016-01-28 14:37:23\n",
       "292   2016-01-28 14:43:23\n",
       "293   2016-01-28 14:48:23\n",
       "294   2016-01-28 14:53:23\n",
       "295   2016-01-28 14:58:23\n",
       "296   2016-01-28 15:04:23\n",
       "297   2016-01-28 15:08:23\n",
       "298   2016-01-28 15:13:23\n",
       "299   2016-01-28 15:18:23\n",
       "300   2016-01-28 15:22:23\n",
       "301   2016-01-28 15:28:23\n",
       "302   2016-01-28 15:33:23\n",
       "303   2016-01-28 15:38:23\n",
       "304   2016-01-28 15:43:23\n",
       "305   2016-01-28 15:48:23\n",
       "306   2016-01-28 15:52:23\n",
       "307   2016-01-28 15:58:23\n",
       "308   2016-01-28 16:03:23\n",
       "309   2016-01-28 16:08:23\n",
       "310   2016-01-28 16:13:23\n",
       "311   2016-01-28 16:18:23\n",
       "312   2016-01-28 16:24:23\n",
       "Length: 313, dtype: datetime64[ns]"
      ]
     },
     "execution_count": 11,
     "metadata": {},
     "output_type": "execute_result"
    }
   ],
   "source": [
    "create_time_index('1/27/2016 14:23:23','1/28/2016 16:23:23',5,1)"
   ]
  },
  {
   "cell_type": "code",
   "execution_count": 12,
   "metadata": {},
   "outputs": [],
   "source": [
    "every_24h_noisy = create_time_index('2/1/2016','2/14/2016',24*60,5*60)\n",
    "df1 = create_df(every_24h_noisy,ip='192.168.0.24',user='lab_user_A')\n",
    "\n",
    "every_24h = create_time_index('2/1/2016','2/14/2016',24*60,10)\n",
    "df2 = create_df(every_24h,ip='192.168.0.2',user='lab_user_B')\n",
    "\n",
    "every_12h = create_time_index('2/1/2016','2/14/2016',12*60,60)\n",
    "df3 = create_df(every_12h,ip='192.168.0.10',user='lab_user_C')\n",
    "\n",
    "every_1h = create_time_index('2/1/2016','2/14/2016',1*60,10)\n",
    "df4 = create_df(every_1h,ip='192.168.0.124',user='lab_user_A')"
   ]
  },
  {
   "cell_type": "code",
   "execution_count": null,
   "metadata": {},
   "outputs": [],
   "source": []
  },
  {
   "cell_type": "code",
   "execution_count": null,
   "metadata": {},
   "outputs": [],
   "source": []
  },
  {
   "cell_type": "code",
   "execution_count": null,
   "metadata": {},
   "outputs": [],
   "source": []
  },
  {
   "cell_type": "markdown",
   "metadata": {},
   "source": [
    "### Concat data and plot"
   ]
  },
  {
   "cell_type": "code",
   "execution_count": 13,
   "metadata": {},
   "outputs": [
    {
     "data": {
      "text/html": [
       "<div>\n",
       "<style scoped>\n",
       "    .dataframe tbody tr th:only-of-type {\n",
       "        vertical-align: middle;\n",
       "    }\n",
       "\n",
       "    .dataframe tbody tr th {\n",
       "        vertical-align: top;\n",
       "    }\n",
       "\n",
       "    .dataframe thead th {\n",
       "        text-align: right;\n",
       "    }\n",
       "</style>\n",
       "<table border=\"1\" class=\"dataframe\">\n",
       "  <thead>\n",
       "    <tr style=\"text-align: right;\">\n",
       "      <th></th>\n",
       "      <th>host</th>\n",
       "      <th>ip</th>\n",
       "      <th>user</th>\n",
       "    </tr>\n",
       "  </thead>\n",
       "  <tbody>\n",
       "    <tr>\n",
       "      <th>2016-01-31 16:10:00</th>\n",
       "      <td>my-host-1</td>\n",
       "      <td>192.168.0.24</td>\n",
       "      <td>lab_user_A</td>\n",
       "    </tr>\n",
       "    <tr>\n",
       "      <th>2016-01-31 23:14:00</th>\n",
       "      <td>my-host-1</td>\n",
       "      <td>192.168.0.10</td>\n",
       "      <td>lab_user_C</td>\n",
       "    </tr>\n",
       "    <tr>\n",
       "      <th>2016-01-31 23:50:00</th>\n",
       "      <td>my-host-1</td>\n",
       "      <td>192.168.0.2</td>\n",
       "      <td>lab_user_B</td>\n",
       "    </tr>\n",
       "    <tr>\n",
       "      <th>2016-02-01 00:16:00</th>\n",
       "      <td>my-host-1</td>\n",
       "      <td>192.168.0.124</td>\n",
       "      <td>lab_user_A</td>\n",
       "    </tr>\n",
       "    <tr>\n",
       "      <th>2016-02-01 00:57:00</th>\n",
       "      <td>my-host-1</td>\n",
       "      <td>192.168.0.124</td>\n",
       "      <td>lab_user_A</td>\n",
       "    </tr>\n",
       "  </tbody>\n",
       "</table>\n",
       "</div>"
      ],
      "text/plain": [
       "                          host             ip        user\n",
       "2016-01-31 16:10:00  my-host-1   192.168.0.24  lab_user_A\n",
       "2016-01-31 23:14:00  my-host-1   192.168.0.10  lab_user_C\n",
       "2016-01-31 23:50:00  my-host-1    192.168.0.2  lab_user_B\n",
       "2016-02-01 00:16:00  my-host-1  192.168.0.124  lab_user_A\n",
       "2016-02-01 00:57:00  my-host-1  192.168.0.124  lab_user_A"
      ]
     },
     "execution_count": 13,
     "metadata": {},
     "output_type": "execute_result"
    }
   ],
   "source": [
    "all_dfs = pd.concat([df1,df2,df3,df4])\n",
    "all_dfs.sort_index(inplace=True)\n",
    "all_dfs.head()"
   ]
  },
  {
   "cell_type": "code",
   "execution_count": 14,
   "metadata": {},
   "outputs": [
    {
     "data": {
      "text/plain": [
       "[<matplotlib.lines.Line2D at 0x21ebb9ea2e8>]"
      ]
     },
     "execution_count": 14,
     "metadata": {},
     "output_type": "execute_result"
    },
    {
     "data": {
      "image/png": "[encoded data removed]",
      "text/plain": [
       "<matplotlib.figure.Figure at 0x21ebb980ef0>"
      ]
     },
     "metadata": {},
     "output_type": "display_data"
    }
   ],
   "source": [
    "plt.plot_date(all_dfs.index,[' '.join(x) for x in all_dfs.values])"
   ]
  },
  {
   "cell_type": "code",
   "execution_count": null,
   "metadata": {},
   "outputs": [],
   "source": []
  },
  {
   "cell_type": "markdown",
   "metadata": {},
   "source": [
    "## Generate Examples with anomalies"
   ]
  },
  {
   "cell_type": "code",
   "execution_count": 15,
   "metadata": {},
   "outputs": [],
   "source": [
    "anomalus_df = create_time_index('2/5/2016 12:00:00','2/6/2016 12:00:00',period_minutes=3*60,noise_minutes=20)\n",
    "# same info as the 'every 24h df'\n",
    "df_an = create_df(anomalus_df,ip='192.168.0.2',user='lab_user_B')"
   ]
  },
  {
   "cell_type": "code",
   "execution_count": 16,
   "metadata": {},
   "outputs": [
    {
     "data": {
      "text/html": [
       "<div>\n",
       "<style scoped>\n",
       "    .dataframe tbody tr th:only-of-type {\n",
       "        vertical-align: middle;\n",
       "    }\n",
       "\n",
       "    .dataframe tbody tr th {\n",
       "        vertical-align: top;\n",
       "    }\n",
       "\n",
       "    .dataframe thead th {\n",
       "        text-align: right;\n",
       "    }\n",
       "</style>\n",
       "<table border=\"1\" class=\"dataframe\">\n",
       "  <thead>\n",
       "    <tr style=\"text-align: right;\">\n",
       "      <th></th>\n",
       "      <th>host</th>\n",
       "      <th>ip</th>\n",
       "      <th>user</th>\n",
       "    </tr>\n",
       "  </thead>\n",
       "  <tbody>\n",
       "    <tr>\n",
       "      <th>2016-01-31 16:10:00</th>\n",
       "      <td>my-host-1</td>\n",
       "      <td>192.168.0.24</td>\n",
       "      <td>lab_user_A</td>\n",
       "    </tr>\n",
       "    <tr>\n",
       "      <th>2016-01-31 23:14:00</th>\n",
       "      <td>my-host-1</td>\n",
       "      <td>192.168.0.10</td>\n",
       "      <td>lab_user_C</td>\n",
       "    </tr>\n",
       "    <tr>\n",
       "      <th>2016-01-31 23:50:00</th>\n",
       "      <td>my-host-1</td>\n",
       "      <td>192.168.0.2</td>\n",
       "      <td>lab_user_B</td>\n",
       "    </tr>\n",
       "    <tr>\n",
       "      <th>2016-02-01 00:16:00</th>\n",
       "      <td>my-host-1</td>\n",
       "      <td>192.168.0.124</td>\n",
       "      <td>lab_user_A</td>\n",
       "    </tr>\n",
       "    <tr>\n",
       "      <th>2016-02-01 00:57:00</th>\n",
       "      <td>my-host-1</td>\n",
       "      <td>192.168.0.124</td>\n",
       "      <td>lab_user_A</td>\n",
       "    </tr>\n",
       "  </tbody>\n",
       "</table>\n",
       "</div>"
      ],
      "text/plain": [
       "                          host             ip        user\n",
       "2016-01-31 16:10:00  my-host-1   192.168.0.24  lab_user_A\n",
       "2016-01-31 23:14:00  my-host-1   192.168.0.10  lab_user_C\n",
       "2016-01-31 23:50:00  my-host-1    192.168.0.2  lab_user_B\n",
       "2016-02-01 00:16:00  my-host-1  192.168.0.124  lab_user_A\n",
       "2016-02-01 00:57:00  my-host-1  192.168.0.124  lab_user_A"
      ]
     },
     "execution_count": 16,
     "metadata": {},
     "output_type": "execute_result"
    }
   ],
   "source": [
    "all_dfs = pd.concat([all_dfs,df_an])\n",
    "all_dfs.sort_index(inplace=True)\n",
    "all_dfs.head()"
   ]
  },
  {
   "cell_type": "code",
   "execution_count": 17,
   "metadata": {},
   "outputs": [
    {
     "data": {
      "text/plain": [
       "[<matplotlib.lines.Line2D at 0x21ebba660f0>]"
      ]
     },
     "execution_count": 17,
     "metadata": {},
     "output_type": "execute_result"
    },
    {
     "data": {
      "image/png": "[encoded data removed]",
      "text/plain": [
       "<matplotlib.figure.Figure at 0x21ebb9e5f98>"
      ]
     },
     "metadata": {},
     "output_type": "display_data"
    }
   ],
   "source": [
    "plt.plot_date(all_dfs.index,[' '.join(x) for x in all_dfs.values])"
   ]
  },
  {
   "cell_type": "code",
   "execution_count": null,
   "metadata": {},
   "outputs": [],
   "source": []
  },
  {
   "cell_type": "code",
   "execution_count": null,
   "metadata": {},
   "outputs": [],
   "source": [
    " "
   ]
  },
  {
   "cell_type": "markdown",
   "metadata": {},
   "source": [
    "## Everything under one function"
   ]
  },
  {
   "cell_type": "code",
   "execution_count": 18,
   "metadata": {},
   "outputs": [],
   "source": [
    "def generate_events(start_timedate_us_format ='3/22/2016 12:00:23',\n",
    "                   end_timedate_us_format = '3/28/2016 21:12:43',\n",
    "                   period_in_minutes=3*60,\n",
    "                   noise_std_in_minutes=20,\n",
    "                   host='my-host-1',\n",
    "                   ip='192.168.0.1',\n",
    "                   user='test_lab_user'\n",
    "                  ):\n",
    "    df_index = create_time_index(start_date = start_timedate_us_format,\n",
    "                                 end_date = end_timedate_us_format,\n",
    "                                 period_minutes = period_in_minutes,\n",
    "                                 noise_minutes = noise_std_in_minutes)\n",
    "    \n",
    "    return_df = create_df(df_index,\n",
    "                          host=host,\n",
    "                          ip=ip,\n",
    "                          user=user)    \n",
    "        \n",
    "    return return_df\n",
    "\n",
    "def generate_events_from_list(list_of_settings):\n",
    "    dfs_list = [generate_events(*settings) for settings in list_of_settings]\n",
    "    \n",
    "    all_dfs = pd.concat(dfs_list)\n",
    "    all_dfs.sort_index(inplace=True)\n",
    "    \n",
    "    return(all_dfs)\n",
    "\n",
    "def plot_dates_categorical(dfs):\n",
    "    return plt.plot_date(dfs.index,[' '.join(x) for x in dfs.values])"
   ]
  },
  {
   "cell_type": "code",
   "execution_count": null,
   "metadata": {},
   "outputs": [],
   "source": []
  },
  {
   "cell_type": "code",
   "execution_count": null,
   "metadata": {},
   "outputs": [],
   "source": []
  },
  {
   "cell_type": "code",
   "execution_count": 19,
   "metadata": {},
   "outputs": [],
   "source": [
    "settings = [\n",
    "    ('1/1/2016', '1/30/2016',24*60,60,'host_1','10.10.24.1','lab_user1'),\n",
    "    ('1/12/2016','1/15/2016',3*60,20,'host_1', '10.10.24.1','lab_user1'),\n",
    "    ('1/25/2016','1/27/2016',1*60,20,'host_1', '10.10.24.1','lab_user1'),\n",
    "    ('1/12/2016','1/15/2016',1*60,10,'host_1', '10.10.1.10','lab_user2'),\n",
    "    ('1/5/2016', '1/17/2016',20,   2,'host_1', '10.10.1.1', 'lab_user2'),\n",
    "    ('1/2/2016', '1/28/2016',12*60,30,'host_1','10.10.1.12','lab_user3'),\n",
    "    ('1/4/2016', '1/5/2016',2*60,10,'host_1',  '10.10.1.12','lab_user3')]"
   ]
  },
  {
   "cell_type": "code",
   "execution_count": 20,
   "metadata": {},
   "outputs": [],
   "source": [
    "all_data = generate_events_from_list(settings)"
   ]
  },
  {
   "cell_type": "code",
   "execution_count": 21,
   "metadata": {},
   "outputs": [
    {
     "data": {
      "text/plain": [
       "[<matplotlib.lines.Line2D at 0x21ebbacf400>]"
      ]
     },
     "execution_count": 21,
     "metadata": {},
     "output_type": "execute_result"
    },
    {
     "data": {
      "image/png": "[encoded data removed]",
      "text/plain": [
       "<matplotlib.figure.Figure at 0x21ebba62278>"
      ]
     },
     "metadata": {},
     "output_type": "display_data"
    }
   ],
   "source": [
    "plot_dates_categorical(all_data)"
   ]
  },
  {
   "cell_type": "code",
   "execution_count": null,
   "metadata": {},
   "outputs": [],
   "source": []
  },
  {
   "cell_type": "code",
   "execution_count": null,
   "metadata": {},
   "outputs": [],
   "source": []
  },
  {
   "cell_type": "markdown",
   "metadata": {},
   "source": [
    "## Export as logs"
   ]
  },
  {
   "cell_type": "code",
   "execution_count": 22,
   "metadata": {},
   "outputs": [],
   "source": [
    "temp_data = all_data[:4]"
   ]
  },
  {
   "cell_type": "code",
   "execution_count": 23,
   "metadata": {},
   "outputs": [
    {
     "data": {
      "text/html": [
       "<div>\n",
       "<style scoped>\n",
       "    .dataframe tbody tr th:only-of-type {\n",
       "        vertical-align: middle;\n",
       "    }\n",
       "\n",
       "    .dataframe tbody tr th {\n",
       "        vertical-align: top;\n",
       "    }\n",
       "\n",
       "    .dataframe thead th {\n",
       "        text-align: right;\n",
       "    }\n",
       "</style>\n",
       "<table border=\"1\" class=\"dataframe\">\n",
       "  <thead>\n",
       "    <tr style=\"text-align: right;\">\n",
       "      <th></th>\n",
       "      <th>host</th>\n",
       "      <th>ip</th>\n",
       "      <th>user</th>\n",
       "    </tr>\n",
       "  </thead>\n",
       "  <tbody>\n",
       "    <tr>\n",
       "      <th>2016-01-01 00:03:00</th>\n",
       "      <td>host_1</td>\n",
       "      <td>10.10.24.1</td>\n",
       "      <td>lab_user1</td>\n",
       "    </tr>\n",
       "    <tr>\n",
       "      <th>2016-01-01 23:40:00</th>\n",
       "      <td>host_1</td>\n",
       "      <td>10.10.1.12</td>\n",
       "      <td>lab_user3</td>\n",
       "    </tr>\n",
       "    <tr>\n",
       "      <th>2016-01-01 23:57:00</th>\n",
       "      <td>host_1</td>\n",
       "      <td>10.10.24.1</td>\n",
       "      <td>lab_user1</td>\n",
       "    </tr>\n",
       "    <tr>\n",
       "      <th>2016-01-02 11:27:00</th>\n",
       "      <td>host_1</td>\n",
       "      <td>10.10.1.12</td>\n",
       "      <td>lab_user3</td>\n",
       "    </tr>\n",
       "  </tbody>\n",
       "</table>\n",
       "</div>"
      ],
      "text/plain": [
       "                       host          ip       user\n",
       "2016-01-01 00:03:00  host_1  10.10.24.1  lab_user1\n",
       "2016-01-01 23:40:00  host_1  10.10.1.12  lab_user3\n",
       "2016-01-01 23:57:00  host_1  10.10.24.1  lab_user1\n",
       "2016-01-02 11:27:00  host_1  10.10.1.12  lab_user3"
      ]
     },
     "execution_count": 23,
     "metadata": {},
     "output_type": "execute_result"
    }
   ],
   "source": [
    "temp_data"
   ]
  },
  {
   "cell_type": "code",
   "execution_count": 24,
   "metadata": {},
   "outputs": [],
   "source": [
    "template = '{:%b %d %H:%M:%S} {} sshd[1234]: Failed password for {} from {} port 1234 ssh2'"
   ]
  },
  {
   "cell_type": "code",
   "execution_count": null,
   "metadata": {},
   "outputs": [],
   "source": []
  },
  {
   "cell_type": "code",
   "execution_count": 25,
   "metadata": {},
   "outputs": [
    {
     "name": "stdout",
     "output_type": "stream",
     "text": [
      "Jan 01 00:03:00 host_1 sshd[1234]: Failed password for lab_user1 from 10.10.24.1 port 1234 ssh2\n",
      "---\n",
      "Jan 01 23:40:00 host_1 sshd[1234]: Failed password for lab_user3 from 10.10.1.12 port 1234 ssh2\n",
      "---\n",
      "Jan 01 23:57:00 host_1 sshd[1234]: Failed password for lab_user1 from 10.10.24.1 port 1234 ssh2\n",
      "---\n",
      "Jan 02 11:27:00 host_1 sshd[1234]: Failed password for lab_user3 from 10.10.1.12 port 1234 ssh2\n",
      "---\n"
     ]
    }
   ],
   "source": [
    "for row in temp_data.iterrows():\n",
    "    print(template.format(row[0],row[1]['host'],row[1]['user'],row[1]['ip']))\n",
    "    print('---')"
   ]
  },
  {
   "cell_type": "code",
   "execution_count": 26,
   "metadata": {},
   "outputs": [],
   "source": [
    "logs = []\n",
    "for row in temp_data.iterrows():\n",
    "    logs.append(template.format(row[0],row[1]['host'],row[1]['user'],row[1]['ip']))"
   ]
  },
  {
   "cell_type": "code",
   "execution_count": 27,
   "metadata": {},
   "outputs": [
    {
     "data": {
      "text/plain": [
       "['Jan 01 00:03:00 host_1 sshd[1234]: Failed password for lab_user1 from 10.10.24.1 port 1234 ssh2',\n",
       " 'Jan 01 23:40:00 host_1 sshd[1234]: Failed password for lab_user3 from 10.10.1.12 port 1234 ssh2',\n",
       " 'Jan 01 23:57:00 host_1 sshd[1234]: Failed password for lab_user1 from 10.10.24.1 port 1234 ssh2',\n",
       " 'Jan 02 11:27:00 host_1 sshd[1234]: Failed password for lab_user3 from 10.10.1.12 port 1234 ssh2']"
      ]
     },
     "execution_count": 27,
     "metadata": {},
     "output_type": "execute_result"
    }
   ],
   "source": [
    "logs"
   ]
  },
  {
   "cell_type": "code",
   "execution_count": null,
   "metadata": {},
   "outputs": [],
   "source": []
  },
  {
   "cell_type": "code",
   "execution_count": 28,
   "metadata": {},
   "outputs": [],
   "source": [
    "def save_as_log_file(filename='temp_logs.log',dataframe=None):\n",
    "    logs = []\n",
    "    for row in dataframe.iterrows():\n",
    "        logs.append(template.format(row[0],row[1]['host'],row[1]['user'],row[1]['ip']))    \n",
    "    \n",
    "    with open(filename,'w') as f:\n",
    "        f.writelines([l+'\\n' for l in logs])\n",
    "\n",
    "    print('Saved to '+filename)\n",
    "    print('Done')\n",
    "    "
   ]
  },
  {
   "cell_type": "code",
   "execution_count": 29,
   "metadata": {},
   "outputs": [
    {
     "name": "stdout",
     "output_type": "stream",
     "text": [
      "Saved to ../data/testtest.log\n",
      "Done\n"
     ]
    }
   ],
   "source": [
    "save_as_log_file('../data/testtest.log',temp_data)"
   ]
  },
  {
   "cell_type": "code",
   "execution_count": null,
   "metadata": {},
   "outputs": [],
   "source": []
  },
  {
   "cell_type": "code",
   "execution_count": null,
   "metadata": {},
   "outputs": [],
   "source": []
  },
  {
   "cell_type": "markdown",
   "metadata": {},
   "source": [
    "###  Save the generated usecases"
   ]
  },
  {
   "cell_type": "code",
   "execution_count": 30,
   "metadata": {},
   "outputs": [
    {
     "name": "stdout",
     "output_type": "stream",
     "text": [
      "Saved to ../data/4cases.log\n",
      "Done\n"
     ]
    }
   ],
   "source": [
    "save_as_log_file('../data/4cases.log',all_data)"
   ]
  },
  {
   "cell_type": "code",
   "execution_count": null,
   "metadata": {},
   "outputs": [],
   "source": []
  }
 ],
 "metadata": {
  "kernelspec": {
   "display_name": "Python 3",
   "language": "python",
   "name": "python3"
  },
  "language_info": {
   "codemirror_mode": {
    "name": "ipython",
    "version": 3
   },
   "file_extension": ".py",
   "mimetype": "text/x-python",
   "name": "python",
   "nbconvert_exporter": "python",
   "pygments_lexer": "ipython3",
   "version": "3.5.4"
  }
 },
 "nbformat": 4,
 "nbformat_minor": 2
}
