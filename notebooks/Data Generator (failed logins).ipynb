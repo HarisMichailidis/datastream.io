{
 "cells": [
  {
   "cell_type": "markdown",
   "metadata": {},
   "source": [
    "## Init auth log data"
   ]
  },
  {
   "cell_type": "code",
   "execution_count": 1,
   "metadata": {},
   "outputs": [],
   "source": [
    "with open('../data/auth.log') as f:\n",
    "    init_data = f.read().split('\\n')"
   ]
  },
  {
   "cell_type": "code",
   "execution_count": 2,
   "metadata": {},
   "outputs": [
    {
     "data": {
      "text/plain": [
       "'Mar 29 23:18:19 ip-10-77-20-248 sshd[6402]: pam_unix(sshd:auth): authentication failure; logname= uid=0 euid=0 tty=ssh ruser= rhost=218.60.136.106  user=root'"
      ]
     },
     "execution_count": 2,
     "metadata": {},
     "output_type": "execute_result"
    }
   ],
   "source": [
    "example = [x for x in init_data if 'user=root' in x][0]\n",
    "example"
   ]
  },
  {
   "cell_type": "code",
   "execution_count": null,
   "metadata": {},
   "outputs": [],
   "source": []
  },
  {
   "cell_type": "markdown",
   "metadata": {},
   "source": [
    "## Create logs template "
   ]
  },
  {
   "cell_type": "code",
   "execution_count": 3,
   "metadata": {},
   "outputs": [],
   "source": [
    "template = '{:%b %d %H:%M:%S} {} sshd[1234]: pam_unix(sshd:auth): \\\n",
    "authentication failure; logname= uid=0 euid=0 tty=ssh ruser= rhost={}  user={}'"
   ]
  },
  {
   "cell_type": "code",
   "execution_count": 4,
   "metadata": {},
   "outputs": [],
   "source": [
    "from datetime import datetime\n",
    "d = datetime(2018,3,10,10,45,10)\n",
    "hostname = 'my-host-1-2-3-4'\n",
    "ip = '192.168.10.1'\n",
    "user = 'lab_user_1'"
   ]
  },
  {
   "cell_type": "code",
   "execution_count": 5,
   "metadata": {},
   "outputs": [
    {
     "name": "stdout",
     "output_type": "stream",
     "text": [
      "2018-03-10 10:45:10 my-host-1-2-3-4 192.168.10.1 lab_user_1\n"
     ]
    }
   ],
   "source": [
    "print(d,hostname,ip,user)"
   ]
  },
  {
   "cell_type": "code",
   "execution_count": 6,
   "metadata": {},
   "outputs": [
    {
     "data": {
      "text/plain": [
       "'Mar 10 10:45:10 my-host-1-2-3-4 sshd[1234]: pam_unix(sshd:auth): authentication failure; logname= uid=0 euid=0 tty=ssh ruser= rhost=192.168.10.1  user=lab_user_1'"
      ]
     },
     "execution_count": 6,
     "metadata": {},
     "output_type": "execute_result"
    }
   ],
   "source": [
    "template.format(d,hostname,ip,user)"
   ]
  },
  {
   "cell_type": "code",
   "execution_count": null,
   "metadata": {},
   "outputs": [],
   "source": []
  },
  {
   "cell_type": "code",
   "execution_count": null,
   "metadata": {},
   "outputs": [],
   "source": []
  },
  {
   "cell_type": "code",
   "execution_count": null,
   "metadata": {},
   "outputs": [],
   "source": []
  },
  {
   "cell_type": "markdown",
   "metadata": {},
   "source": [
    "##  Create time index generator and df "
   ]
  },
  {
   "cell_type": "code",
   "execution_count": 7,
   "metadata": {},
   "outputs": [],
   "source": [
    "import pandas as pd\n",
    "import numpy as np\n",
    "import matplotlib.pyplot as plt"
   ]
  },
  {
   "cell_type": "code",
   "execution_count": 8,
   "metadata": {},
   "outputs": [],
   "source": [
    "def create_time_index(start_date='22/3/2018 12:43:23',\n",
    "                      end_date='30/3/2018',\n",
    "                      period_minutes=120, #period in minutes\n",
    "                      noise_minutes=10): #noise in minutes\n",
    "    \n",
    "    period_minutes=int(period_minutes)\n",
    "    assert period_minutes>0\n",
    "    \n",
    "    noise_minutes = int(noise_minutes)\n",
    "    assert noise_minutes>0\n",
    "\n",
    "    dates = pd.date_range(start_date,end_date,freq='{}T'.format(period_minutes))\n",
    "    dates += pd.Series([pd.Timedelta(str(int(x))+'m') for x in np.random.normal(0, noise_minutes, dates.shape)])\n",
    "    return dates"
   ]
  },
  {
   "cell_type": "code",
   "execution_count": 9,
   "metadata": {},
   "outputs": [],
   "source": [
    "def create_df(time_index,user='lab_user'):\n",
    "    df = pd.DataFrame(user,columns=['user'],index=time_index)\n",
    "    return df"
   ]
  },
  {
   "cell_type": "code",
   "execution_count": null,
   "metadata": {},
   "outputs": [],
   "source": []
  },
  {
   "cell_type": "markdown",
   "metadata": {},
   "source": [
    "### Examples"
   ]
  },
  {
   "cell_type": "code",
   "execution_count": 10,
   "metadata": {},
   "outputs": [
    {
     "data": {
      "text/plain": [
       "0    2016-01-02 14:23:23\n",
       "1    2016-01-02 14:28:23\n",
       "2    2016-01-02 14:33:23\n",
       "3    2016-01-02 14:37:23\n",
       "4    2016-01-02 14:43:23\n",
       "5    2016-01-02 14:48:23\n",
       "6    2016-01-02 14:53:23\n",
       "7    2016-01-02 14:58:23\n",
       "8    2016-01-02 15:03:23\n",
       "9    2016-01-02 15:09:23\n",
       "10   2016-01-02 15:12:23\n",
       "11   2016-01-02 15:18:23\n",
       "12   2016-01-02 15:23:23\n",
       "13   2016-01-02 15:28:23\n",
       "14   2016-01-02 15:32:23\n",
       "15   2016-01-02 15:38:23\n",
       "16   2016-01-02 15:43:23\n",
       "17   2016-01-02 15:48:23\n",
       "18   2016-01-02 15:53:23\n",
       "19   2016-01-02 15:58:23\n",
       "20   2016-01-02 16:02:23\n",
       "21   2016-01-02 16:08:23\n",
       "22   2016-01-02 16:14:23\n",
       "23   2016-01-02 16:17:23\n",
       "24   2016-01-02 16:23:23\n",
       "dtype: datetime64[ns]"
      ]
     },
     "execution_count": 10,
     "metadata": {},
     "output_type": "execute_result"
    }
   ],
   "source": [
    "create_time_index('1/2/2016 14:23:23','1/2/2016 16:23:23',5,1)"
   ]
  },
  {
   "cell_type": "code",
   "execution_count": 11,
   "metadata": {},
   "outputs": [],
   "source": [
    "every_24h_noisy = create_time_index('1/2/2016','14/2/2016',24*60,5*60)\n",
    "df1 = create_df(every_24h_noisy,'lab_user24')\n",
    "\n",
    "every_24h = create_time_index('1/2/2016','14/2/2016',24*60,10)\n",
    "df2 = create_df(every_24h,'lab_user24b')\n",
    "\n",
    "every_12h = create_time_index('1/2/2016','14/2/2016',12*60,60)\n",
    "df3 = create_df(every_12h,'lab_user12')\n",
    "\n",
    "every_1h = create_time_index('1/2/2016','14/2/2016',1*60,10)\n",
    "df4 = create_df(every_1h,'lab_user1h')"
   ]
  },
  {
   "cell_type": "markdown",
   "metadata": {},
   "source": [
    "### Concat data and plot"
   ]
  },
  {
   "cell_type": "code",
   "execution_count": 12,
   "metadata": {},
   "outputs": [
    {
     "data": {
      "text/html": [
       "<div>\n",
       "<style scoped>\n",
       "    .dataframe tbody tr th:only-of-type {\n",
       "        vertical-align: middle;\n",
       "    }\n",
       "\n",
       "    .dataframe tbody tr th {\n",
       "        vertical-align: top;\n",
       "    }\n",
       "\n",
       "    .dataframe thead th {\n",
       "        text-align: right;\n",
       "    }\n",
       "</style>\n",
       "<table border=\"1\" class=\"dataframe\">\n",
       "  <thead>\n",
       "    <tr style=\"text-align: right;\">\n",
       "      <th></th>\n",
       "      <th>user</th>\n",
       "    </tr>\n",
       "  </thead>\n",
       "  <tbody>\n",
       "    <tr>\n",
       "      <th>2016-01-01 23:41:00</th>\n",
       "      <td>lab_user1h</td>\n",
       "    </tr>\n",
       "    <tr>\n",
       "      <th>2016-01-02 00:10:00</th>\n",
       "      <td>lab_user24b</td>\n",
       "    </tr>\n",
       "    <tr>\n",
       "      <th>2016-01-02 00:51:00</th>\n",
       "      <td>lab_user1h</td>\n",
       "    </tr>\n",
       "    <tr>\n",
       "      <th>2016-01-02 00:55:00</th>\n",
       "      <td>lab_user12</td>\n",
       "    </tr>\n",
       "    <tr>\n",
       "      <th>2016-01-02 01:55:00</th>\n",
       "      <td>lab_user1h</td>\n",
       "    </tr>\n",
       "  </tbody>\n",
       "</table>\n",
       "</div>"
      ],
      "text/plain": [
       "                            user\n",
       "2016-01-01 23:41:00   lab_user1h\n",
       "2016-01-02 00:10:00  lab_user24b\n",
       "2016-01-02 00:51:00   lab_user1h\n",
       "2016-01-02 00:55:00   lab_user12\n",
       "2016-01-02 01:55:00   lab_user1h"
      ]
     },
     "execution_count": 12,
     "metadata": {},
     "output_type": "execute_result"
    }
   ],
   "source": [
    "all_dfs = pd.concat([df1,df2,df3,df4])\n",
    "all_dfs.sort_index(inplace=True)\n",
    "all_dfs.head()"
   ]
  },
  {
   "cell_type": "code",
   "execution_count": 13,
   "metadata": {},
   "outputs": [
    {
     "data": {
      "text/plain": [
       "[<matplotlib.lines.Line2D at 0x1959b847a90>]"
      ]
     },
     "execution_count": 13,
     "metadata": {},
     "output_type": "execute_result"
    },
    {
     "data": {
      "image/png": "[encoded data removed]",
      "text/plain": [
       "<matplotlib.figure.Figure at 0x1959a804b00>"
      ]
     },
     "metadata": {},
     "output_type": "display_data"
    }
   ],
   "source": [
    "%matplotlib inline\n",
    "plt.plot_date(all_dfs.index,all_dfs)"
   ]
  },
  {
   "cell_type": "code",
   "execution_count": null,
   "metadata": {},
   "outputs": [],
   "source": [
    " "
   ]
  }
 ],
 "metadata": {
  "kernelspec": {
   "display_name": "Python 3",
   "language": "python",
   "name": "python3"
  },
  "language_info": {
   "codemirror_mode": {
    "name": "ipython",
    "version": 3
   },
   "file_extension": ".py",
   "mimetype": "text/x-python",
   "name": "python",
   "nbconvert_exporter": "python",
   "pygments_lexer": "ipython3",
   "version": "3.5.4"
  }
 },
 "nbformat": 4,
 "nbformat_minor": 2
}
