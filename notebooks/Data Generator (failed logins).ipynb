{
 "cells": [
  {
   "cell_type": "code",
   "execution_count": 1,
   "metadata": {},
   "outputs": [],
   "source": [
    "import sys\n",
    "assert sys.version_info[0] >= 3\n",
    "\n",
    "import pandas as pd\n",
    "import numpy as np\n",
    "import matplotlib.pyplot as plt\n",
    "from datetime import datetime"
   ]
  },
  {
   "cell_type": "code",
   "execution_count": null,
   "metadata": {},
   "outputs": [],
   "source": []
  },
  {
   "cell_type": "code",
   "execution_count": null,
   "metadata": {},
   "outputs": [],
   "source": []
  },
  {
   "cell_type": "markdown",
   "metadata": {},
   "source": [
    "## Init auth log data"
   ]
  },
  {
   "cell_type": "code",
   "execution_count": 2,
   "metadata": {},
   "outputs": [],
   "source": [
    "%matplotlib inline\n",
    "with open('../data/auth.log') as f:\n",
    "    init_data = f.read().split('\\n')"
   ]
  },
  {
   "cell_type": "code",
   "execution_count": 3,
   "metadata": {},
   "outputs": [
    {
     "data": {
      "text/plain": [
       "'Mar 29 23:18:19 ip-10-77-20-248 sshd[6402]: pam_unix(sshd:auth): authentication failure; logname= uid=0 euid=0 tty=ssh ruser= rhost=218.60.136.106  user=root'"
      ]
     },
     "execution_count": 3,
     "metadata": {},
     "output_type": "execute_result"
    }
   ],
   "source": [
    "example = [x for x in init_data if 'user=root' in x][0]\n",
    "example"
   ]
  },
  {
   "cell_type": "code",
   "execution_count": 4,
   "metadata": {},
   "outputs": [
    {
     "data": {
      "text/plain": [
       "'Mar 29 19:30:18 ip-10-77-20-248 sshd[5743]: Failed password for elastic_user_4 from 24.151.103.17 port 52124 ssh2'"
      ]
     },
     "execution_count": 4,
     "metadata": {},
     "output_type": "execute_result"
    }
   ],
   "source": [
    "'Mar 29 19:30:18 ip-10-77-20-248 sshd[5743]: Failed password for elastic_user_4 from 24.151.103.17 port 52124 ssh2'"
   ]
  },
  {
   "cell_type": "markdown",
   "metadata": {},
   "source": [
    "## Create logs template "
   ]
  },
  {
   "cell_type": "code",
   "execution_count": 5,
   "metadata": {},
   "outputs": [],
   "source": [
    "template = '{:%b %d %H:%M:%S} {} sshd[1234]: Failed password for {} from {} port 1234 ssh2'"
   ]
  },
  {
   "cell_type": "code",
   "execution_count": 6,
   "metadata": {},
   "outputs": [],
   "source": [
    "d = datetime(2018,3,10,10,45,10)\n",
    "hostname = 'my-host-1-2-3-4'\n",
    "ip = '192.168.10.1'\n",
    "user = 'lab_user_1'"
   ]
  },
  {
   "cell_type": "code",
   "execution_count": 7,
   "metadata": {},
   "outputs": [
    {
     "name": "stdout",
     "output_type": "stream",
     "text": [
      "2018-03-10 10:45:10 my-host-1-2-3-4 192.168.10.1 lab_user_1\n"
     ]
    }
   ],
   "source": [
    "print(d,hostname,ip,user)"
   ]
  },
  {
   "cell_type": "code",
   "execution_count": 8,
   "metadata": {},
   "outputs": [
    {
     "data": {
      "text/plain": [
       "'Mar 10 10:45:10 my-host-1-2-3-4 sshd[1234]: Failed password for lab_user_1 from 192.168.10.1 port 1234 ssh2'"
      ]
     },
     "execution_count": 8,
     "metadata": {},
     "output_type": "execute_result"
    }
   ],
   "source": [
    "template.format(d,hostname,user,ip)"
   ]
  },
  {
   "cell_type": "code",
   "execution_count": null,
   "metadata": {},
   "outputs": [],
   "source": []
  },
  {
   "cell_type": "code",
   "execution_count": null,
   "metadata": {},
   "outputs": [],
   "source": []
  },
  {
   "cell_type": "code",
   "execution_count": null,
   "metadata": {},
   "outputs": [],
   "source": []
  },
  {
   "cell_type": "markdown",
   "metadata": {},
   "source": [
    "##  Create time index generator and df "
   ]
  },
  {
   "cell_type": "code",
   "execution_count": null,
   "metadata": {},
   "outputs": [],
   "source": []
  },
  {
   "cell_type": "code",
   "execution_count": 10,
   "metadata": {},
   "outputs": [],
   "source": [
    "def create_time_index(start_date='22/3/2018 12:43:23',\n",
    "                      end_date='30/3/2018',\n",
    "                      period_minutes=120, #period in minutes\n",
    "                      noise_minutes=10): #noise in minutes\n",
    "    \n",
    "    period_minutes=int(period_minutes)\n",
    "    assert period_minutes>0\n",
    "    \n",
    "    noise_minutes = int(noise_minutes)\n",
    "    assert noise_minutes>0\n",
    "\n",
    "    dates = pd.date_range(start_date,end_date,freq='{}T'.format(period_minutes))\n",
    "    dates += pd.Series([pd.Timedelta(str(int(x))+'m') for x in np.random.normal(0, noise_minutes, dates.shape)])\n",
    "    return dates"
   ]
  },
  {
   "cell_type": "code",
   "execution_count": 11,
   "metadata": {},
   "outputs": [],
   "source": [
    "def create_df(time_index, host='my-host-1', ip='192.168.0.1', user='lab_user1'):\n",
    "    df = pd.DataFrame([[host,ip,user] for _ in time_index],\n",
    "                      columns=['host','ip','user'],\n",
    "                      index=time_index)\n",
    "    return df"
   ]
  },
  {
   "cell_type": "code",
   "execution_count": null,
   "metadata": {},
   "outputs": [],
   "source": []
  },
  {
   "cell_type": "markdown",
   "metadata": {},
   "source": [
    "### Examples"
   ]
  },
  {
   "cell_type": "code",
   "execution_count": 12,
   "metadata": {},
   "outputs": [
    {
     "data": {
      "text/plain": [
       "0     2016-01-27 14:23:23\n",
       "1     2016-01-27 14:28:23\n",
       "2     2016-01-27 14:33:23\n",
       "3     2016-01-27 14:40:23\n",
       "4     2016-01-27 14:41:23\n",
       "5     2016-01-27 14:48:23\n",
       "6     2016-01-27 14:53:23\n",
       "7     2016-01-27 14:59:23\n",
       "8     2016-01-27 15:04:23\n",
       "9     2016-01-27 15:07:23\n",
       "10    2016-01-27 15:12:23\n",
       "11    2016-01-27 15:19:23\n",
       "12    2016-01-27 15:23:23\n",
       "13    2016-01-27 15:28:23\n",
       "14    2016-01-27 15:33:23\n",
       "15    2016-01-27 15:38:23\n",
       "16    2016-01-27 15:42:23\n",
       "17    2016-01-27 15:48:23\n",
       "18    2016-01-27 15:52:23\n",
       "19    2016-01-27 15:57:23\n",
       "20    2016-01-27 16:03:23\n",
       "21    2016-01-27 16:08:23\n",
       "22    2016-01-27 16:13:23\n",
       "23    2016-01-27 16:17:23\n",
       "24    2016-01-27 16:23:23\n",
       "25    2016-01-27 16:28:23\n",
       "26    2016-01-27 16:34:23\n",
       "27    2016-01-27 16:37:23\n",
       "28    2016-01-27 16:43:23\n",
       "29    2016-01-27 16:48:23\n",
       "              ...        \n",
       "283   2016-01-28 13:58:23\n",
       "284   2016-01-28 14:04:23\n",
       "285   2016-01-28 14:09:23\n",
       "286   2016-01-28 14:13:23\n",
       "287   2016-01-28 14:18:23\n",
       "288   2016-01-28 14:24:23\n",
       "289   2016-01-28 14:28:23\n",
       "290   2016-01-28 14:33:23\n",
       "291   2016-01-28 14:38:23\n",
       "292   2016-01-28 14:41:23\n",
       "293   2016-01-28 14:48:23\n",
       "294   2016-01-28 14:53:23\n",
       "295   2016-01-28 14:56:23\n",
       "296   2016-01-28 15:03:23\n",
       "297   2016-01-28 15:08:23\n",
       "298   2016-01-28 15:12:23\n",
       "299   2016-01-28 15:18:23\n",
       "300   2016-01-28 15:23:23\n",
       "301   2016-01-28 15:27:23\n",
       "302   2016-01-28 15:34:23\n",
       "303   2016-01-28 15:38:23\n",
       "304   2016-01-28 15:43:23\n",
       "305   2016-01-28 15:48:23\n",
       "306   2016-01-28 15:53:23\n",
       "307   2016-01-28 15:59:23\n",
       "308   2016-01-28 16:02:23\n",
       "309   2016-01-28 16:08:23\n",
       "310   2016-01-28 16:13:23\n",
       "311   2016-01-28 16:18:23\n",
       "312   2016-01-28 16:23:23\n",
       "Length: 313, dtype: datetime64[ns]"
      ]
     },
     "execution_count": 12,
     "metadata": {},
     "output_type": "execute_result"
    }
   ],
   "source": [
    "create_time_index('1/27/2016 14:23:23','1/28/2016 16:23:23',5,1)"
   ]
  },
  {
   "cell_type": "code",
   "execution_count": 13,
   "metadata": {},
   "outputs": [],
   "source": [
    "every_24h_noisy = create_time_index('2/1/2016','2/14/2016',24*60,5*60)\n",
    "df1 = create_df(every_24h_noisy,ip='192.168.0.24',user='lab_user_A')\n",
    "\n",
    "every_24h = create_time_index('2/1/2016','2/14/2016',24*60,10)\n",
    "df2 = create_df(every_24h,ip='192.168.0.2',user='lab_user_B')\n",
    "\n",
    "every_12h = create_time_index('2/1/2016','2/14/2016',12*60,60)\n",
    "df3 = create_df(every_12h,ip='192.168.0.10',user='lab_user_C')\n",
    "\n",
    "every_1h = create_time_index('2/1/2016','2/14/2016',1*60,10)\n",
    "df4 = create_df(every_1h,ip='192.168.0.124',user='lab_user_A')"
   ]
  },
  {
   "cell_type": "code",
   "execution_count": null,
   "metadata": {},
   "outputs": [],
   "source": []
  },
  {
   "cell_type": "code",
   "execution_count": null,
   "metadata": {},
   "outputs": [],
   "source": []
  },
  {
   "cell_type": "code",
   "execution_count": null,
   "metadata": {},
   "outputs": [],
   "source": []
  },
  {
   "cell_type": "markdown",
   "metadata": {},
   "source": [
    "### Concat data and plot"
   ]
  },
  {
   "cell_type": "code",
   "execution_count": 14,
   "metadata": {},
   "outputs": [
    {
     "data": {
      "text/html": [
       "<div>\n",
       "<style scoped>\n",
       "    .dataframe tbody tr th:only-of-type {\n",
       "        vertical-align: middle;\n",
       "    }\n",
       "\n",
       "    .dataframe tbody tr th {\n",
       "        vertical-align: top;\n",
       "    }\n",
       "\n",
       "    .dataframe thead th {\n",
       "        text-align: right;\n",
       "    }\n",
       "</style>\n",
       "<table border=\"1\" class=\"dataframe\">\n",
       "  <thead>\n",
       "    <tr style=\"text-align: right;\">\n",
       "      <th></th>\n",
       "      <th>host</th>\n",
       "      <th>ip</th>\n",
       "      <th>user</th>\n",
       "    </tr>\n",
       "  </thead>\n",
       "  <tbody>\n",
       "    <tr>\n",
       "      <th>2016-01-31 22:08:00</th>\n",
       "      <td>my-host-1</td>\n",
       "      <td>192.168.0.24</td>\n",
       "      <td>lab_user_A</td>\n",
       "    </tr>\n",
       "    <tr>\n",
       "      <th>2016-01-31 23:50:00</th>\n",
       "      <td>my-host-1</td>\n",
       "      <td>192.168.0.2</td>\n",
       "      <td>lab_user_B</td>\n",
       "    </tr>\n",
       "    <tr>\n",
       "      <th>2016-02-01 00:04:00</th>\n",
       "      <td>my-host-1</td>\n",
       "      <td>192.168.0.124</td>\n",
       "      <td>lab_user_A</td>\n",
       "    </tr>\n",
       "    <tr>\n",
       "      <th>2016-02-01 01:04:00</th>\n",
       "      <td>my-host-1</td>\n",
       "      <td>192.168.0.124</td>\n",
       "      <td>lab_user_A</td>\n",
       "    </tr>\n",
       "    <tr>\n",
       "      <th>2016-02-01 01:25:00</th>\n",
       "      <td>my-host-1</td>\n",
       "      <td>192.168.0.10</td>\n",
       "      <td>lab_user_C</td>\n",
       "    </tr>\n",
       "  </tbody>\n",
       "</table>\n",
       "</div>"
      ],
      "text/plain": [
       "                          host             ip        user\n",
       "2016-01-31 22:08:00  my-host-1   192.168.0.24  lab_user_A\n",
       "2016-01-31 23:50:00  my-host-1    192.168.0.2  lab_user_B\n",
       "2016-02-01 00:04:00  my-host-1  192.168.0.124  lab_user_A\n",
       "2016-02-01 01:04:00  my-host-1  192.168.0.124  lab_user_A\n",
       "2016-02-01 01:25:00  my-host-1   192.168.0.10  lab_user_C"
      ]
     },
     "execution_count": 14,
     "metadata": {},
     "output_type": "execute_result"
    }
   ],
   "source": [
    "all_dfs = pd.concat([df1,df2,df3,df4])\n",
    "all_dfs.sort_index(inplace=True)\n",
    "all_dfs.head()"
   ]
  },
  {
   "cell_type": "code",
   "execution_count": 15,
   "metadata": {},
   "outputs": [
    {
     "data": {
      "text/plain": [
       "[<matplotlib.lines.Line2D at 0x21890d1a358>]"
      ]
     },
     "execution_count": 15,
     "metadata": {},
     "output_type": "execute_result"
    },
    {
     "data": {
      "image/png": "[encoded data removed]",
      "text/plain": [
       "<matplotlib.figure.Figure at 0x21890caf4e0>"
      ]
     },
     "metadata": {},
     "output_type": "display_data"
    }
   ],
   "source": [
    "plt.plot_date(all_dfs.index,[' '.join(x) for x in all_dfs.values])"
   ]
  },
  {
   "cell_type": "code",
   "execution_count": null,
   "metadata": {},
   "outputs": [],
   "source": []
  },
  {
   "cell_type": "markdown",
   "metadata": {},
   "source": [
    "## Generate Examples with anomalies"
   ]
  },
  {
   "cell_type": "code",
   "execution_count": 16,
   "metadata": {},
   "outputs": [],
   "source": [
    "anomalus_df = create_time_index('2/5/2016 12:00:00','2/6/2016 12:00:00',period_minutes=3*60,noise_minutes=20)\n",
    "# same info as the 'every 24h df'\n",
    "df_an = create_df(anomalus_df,ip='192.168.0.2',user='lab_user_B')"
   ]
  },
  {
   "cell_type": "code",
   "execution_count": 17,
   "metadata": {},
   "outputs": [
    {
     "data": {
      "text/html": [
       "<div>\n",
       "<style scoped>\n",
       "    .dataframe tbody tr th:only-of-type {\n",
       "        vertical-align: middle;\n",
       "    }\n",
       "\n",
       "    .dataframe tbody tr th {\n",
       "        vertical-align: top;\n",
       "    }\n",
       "\n",
       "    .dataframe thead th {\n",
       "        text-align: right;\n",
       "    }\n",
       "</style>\n",
       "<table border=\"1\" class=\"dataframe\">\n",
       "  <thead>\n",
       "    <tr style=\"text-align: right;\">\n",
       "      <th></th>\n",
       "      <th>host</th>\n",
       "      <th>ip</th>\n",
       "      <th>user</th>\n",
       "    </tr>\n",
       "  </thead>\n",
       "  <tbody>\n",
       "    <tr>\n",
       "      <th>2016-01-31 22:08:00</th>\n",
       "      <td>my-host-1</td>\n",
       "      <td>192.168.0.24</td>\n",
       "      <td>lab_user_A</td>\n",
       "    </tr>\n",
       "    <tr>\n",
       "      <th>2016-01-31 23:50:00</th>\n",
       "      <td>my-host-1</td>\n",
       "      <td>192.168.0.2</td>\n",
       "      <td>lab_user_B</td>\n",
       "    </tr>\n",
       "    <tr>\n",
       "      <th>2016-02-01 00:04:00</th>\n",
       "      <td>my-host-1</td>\n",
       "      <td>192.168.0.124</td>\n",
       "      <td>lab_user_A</td>\n",
       "    </tr>\n",
       "    <tr>\n",
       "      <th>2016-02-01 01:04:00</th>\n",
       "      <td>my-host-1</td>\n",
       "      <td>192.168.0.124</td>\n",
       "      <td>lab_user_A</td>\n",
       "    </tr>\n",
       "    <tr>\n",
       "      <th>2016-02-01 01:25:00</th>\n",
       "      <td>my-host-1</td>\n",
       "      <td>192.168.0.10</td>\n",
       "      <td>lab_user_C</td>\n",
       "    </tr>\n",
       "  </tbody>\n",
       "</table>\n",
       "</div>"
      ],
      "text/plain": [
       "                          host             ip        user\n",
       "2016-01-31 22:08:00  my-host-1   192.168.0.24  lab_user_A\n",
       "2016-01-31 23:50:00  my-host-1    192.168.0.2  lab_user_B\n",
       "2016-02-01 00:04:00  my-host-1  192.168.0.124  lab_user_A\n",
       "2016-02-01 01:04:00  my-host-1  192.168.0.124  lab_user_A\n",
       "2016-02-01 01:25:00  my-host-1   192.168.0.10  lab_user_C"
      ]
     },
     "execution_count": 17,
     "metadata": {},
     "output_type": "execute_result"
    }
   ],
   "source": [
    "all_dfs = pd.concat([all_dfs,df_an])\n",
    "all_dfs.sort_index(inplace=True)\n",
    "all_dfs.head()"
   ]
  },
  {
   "cell_type": "code",
   "execution_count": 18,
   "metadata": {},
   "outputs": [
    {
     "data": {
      "text/plain": [
       "[<matplotlib.lines.Line2D at 0x21891d698d0>]"
      ]
     },
     "execution_count": 18,
     "metadata": {},
     "output_type": "execute_result"
    },
    {
     "data": {
      "image/png": "[encoded data removed]",
      "text/plain": [
       "<matplotlib.figure.Figure at 0x21890d497f0>"
      ]
     },
     "metadata": {},
     "output_type": "display_data"
    }
   ],
   "source": [
    "plt.plot_date(all_dfs.index,[' '.join(x) for x in all_dfs.values])"
   ]
  },
  {
   "cell_type": "code",
   "execution_count": null,
   "metadata": {},
   "outputs": [],
   "source": []
  },
  {
   "cell_type": "code",
   "execution_count": null,
   "metadata": {},
   "outputs": [],
   "source": [
    " "
   ]
  },
  {
   "cell_type": "code",
   "execution_count": null,
   "metadata": {},
   "outputs": [],
   "source": []
  },
  {
   "cell_type": "code",
   "execution_count": null,
   "metadata": {},
   "outputs": [],
   "source": []
  },
  {
   "cell_type": "code",
   "execution_count": null,
   "metadata": {},
   "outputs": [],
   "source": []
  },
  {
   "cell_type": "code",
   "execution_count": null,
   "metadata": {},
   "outputs": [],
   "source": []
  },
  {
   "cell_type": "code",
   "execution_count": null,
   "metadata": {},
   "outputs": [],
   "source": []
  },
  {
   "cell_type": "code",
   "execution_count": null,
   "metadata": {},
   "outputs": [],
   "source": []
  },
  {
   "cell_type": "code",
   "execution_count": null,
   "metadata": {},
   "outputs": [],
   "source": []
  }
 ],
 "metadata": {
  "kernelspec": {
   "display_name": "Python 3",
   "language": "python",
   "name": "python3"
  },
  "language_info": {
   "codemirror_mode": {
    "name": "ipython",
    "version": 3
   },
   "file_extension": ".py",
   "mimetype": "text/x-python",
   "name": "python",
   "nbconvert_exporter": "python",
   "pygments_lexer": "ipython3",
   "version": "3.5.4"
  }
 },
 "nbformat": 4,
 "nbformat_minor": 2
}
