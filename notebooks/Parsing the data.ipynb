{
 "cells": [
  {
   "cell_type": "markdown",
   "metadata": {},
   "source": [
    "## Read and Parse the logs"
   ]
  },
  {
   "cell_type": "code",
   "execution_count": 1,
   "metadata": {},
   "outputs": [],
   "source": [
    "with open('../data/auth.log') as f:\n",
    "    data = f.readlines()"
   ]
  },
  {
   "cell_type": "code",
   "execution_count": 2,
   "metadata": {},
   "outputs": [
    {
     "data": {
      "text/plain": [
       "['Mar 27 13:06:56 ip-10-77-20-248 sshd[1291]: Server listening on 0.0.0.0 port 22.\\n',\n",
       " 'Mar 27 13:06:56 ip-10-77-20-248 sshd[1291]: Server listening on :: port 22.\\n',\n",
       " 'Mar 27 13:06:56 ip-10-77-20-248 systemd-logind[1118]: Watching system buttons on /dev/input/event0 (Power Button)\\n',\n",
       " 'Mar 27 13:06:56 ip-10-77-20-248 systemd-logind[1118]: Watching system buttons on /dev/input/event1 (Sleep Button)\\n',\n",
       " 'Mar 27 13:06:56 ip-10-77-20-248 systemd-logind[1118]: New seat seat0.\\n',\n",
       " 'Mar 27 13:08:09 ip-10-77-20-248 sshd[1361]: Accepted publickey for ubuntu from 85.245.107.41 port 54259 ssh2: RSA SHA256:Kl8kPGZrTiz7g4FO1hyqHdsSBBb5Fge6NWOobN03XJg\\n',\n",
       " 'Mar 27 13:08:09 ip-10-77-20-248 sshd[1361]: pam_unix(sshd:session): session opened for user ubuntu by (uid=0)\\n',\n",
       " 'Mar 27 13:08:09 ip-10-77-20-248 systemd: pam_unix(systemd-user:session): session opened for user ubuntu by (uid=0)\\n',\n",
       " 'Mar 27 13:08:09 ip-10-77-20-248 systemd-logind[1118]: New session 1 of user ubuntu.\\n',\n",
       " 'Mar 27 13:09:37 ip-10-77-20-248 sudo:   ubuntu : TTY=pts/0 ; PWD=/home/ubuntu ; USER=root ; COMMAND=/usr/bin/curl -L -O https://artifacts.elastic.co/downloads/beats/filebeat/filebeat-5.2.2-amd64.deb\\n']"
      ]
     },
     "execution_count": 2,
     "metadata": {},
     "output_type": "execute_result"
    }
   ],
   "source": [
    "data[:10]"
   ]
  },
  {
   "cell_type": "code",
   "execution_count": null,
   "metadata": {},
   "outputs": [],
   "source": []
  },
  {
   "cell_type": "markdown",
   "metadata": {},
   "source": [
    "## Testing Pygrok"
   ]
  },
  {
   "cell_type": "code",
   "execution_count": 3,
   "metadata": {},
   "outputs": [],
   "source": [
    "import pygrok"
   ]
  },
  {
   "cell_type": "code",
   "execution_count": 4,
   "metadata": {},
   "outputs": [
    {
     "name": "stdout",
     "output_type": "stream",
     "text": [
      "{'gender': 'male', 'name': 'gary', 'weight': '68.5', 'age': '25'}\n"
     ]
    }
   ],
   "source": [
    "from pygrok import Grok\n",
    "text = 'gary is male, 25 years old and weighs 68.5 kilograms'\n",
    "pattern = '%{WORD:name} is %{WORD:gender}, %{NUMBER:age} years old and weighs %{NUMBER:weight} kilograms'\n",
    "grok = Grok(pattern)\n",
    "print(grok.match(text))"
   ]
  },
  {
   "cell_type": "markdown",
   "metadata": {},
   "source": [
    "### Following the instructions from here: https://www.elastic.co/blog/grokking-the-linux-authorization-logs"
   ]
  },
  {
   "cell_type": "code",
   "execution_count": 5,
   "metadata": {},
   "outputs": [
    {
     "name": "stdout",
     "output_type": "stream",
     "text": [
      "None\n"
     ]
    }
   ],
   "source": [
    "text = 'Feb 21 00:13:35 localhost sshd[7483]: Accepted password for vagrant from 192.168.33.1 port 58803 ssh2'\n",
    "pattern = '%{SYSLOGTIMESTAMP:system.auth.timestamp} %{SYSLOGHOST:system.auth.hostname} sshd(?:\\\\[%{POSINT:system.auth.pid}\\\\])?: %{DATA:system.auth.ssh.event} %{DATA:system.auth.ssh.method} for (invalid user )?%{DATA:system.auth.user} from %{IPORHOST:system.auth.ip} port %{NUMBER:system.auth.port} ssh2(: %{GREEDYDATA:system.auth.ssh.signature})?'\n",
    "grok = Grok(pattern)\n",
    "print(grok.match(text))"
   ]
  },
  {
   "cell_type": "code",
   "execution_count": 6,
   "metadata": {},
   "outputs": [
    {
     "name": "stdout",
     "output_type": "stream",
     "text": [
      "None\n"
     ]
    }
   ],
   "source": [
    "text = 'Feb 21 21:56:12 localhost sshd[3430]: Invalid user test from 10.0.2.2'\n",
    "pattern = '%{SYSLOGTIMESTAMP:system.auth.timestamp} %{SYSLOGHOST:system.auth.hostname} sshd(?:\\\\[%{POSINT:system.auth.pid}\\\\])?: %{DATA:system.auth.ssh.event} user %{DATA:system.auth.user} from %{IPORHOST:system.auth.ip}'\n",
    "grok = Grok(pattern)\n",
    "print(grok.match(text))"
   ]
  },
  {
   "cell_type": "markdown",
   "metadata": {},
   "source": [
    "### The above method doesn't seem to work"
   ]
  },
  {
   "cell_type": "code",
   "execution_count": null,
   "metadata": {},
   "outputs": [],
   "source": []
  },
  {
   "cell_type": "markdown",
   "metadata": {},
   "source": [
    "### Based on Logalyzer - https://github.com/hatRiot/logalyzer"
   ]
  },
  {
   "cell_type": "code",
   "execution_count": 7,
   "metadata": {},
   "outputs": [],
   "source": [
    "import re\n",
    "\n",
    "# parse user from various lines\n",
    "def ParseUsr(line):\n",
    "    usr = None\n",
    "    if \"Accepted password\" in line:\n",
    "        usr = re.search(r'(\\bfor\\s)(\\w+)', line)\n",
    "    elif \"sudo:\" in line:\n",
    "        usr = re.search(r'(sudo:\\s+)(\\w+)', line)\n",
    "    elif \"authentication failure\" in line:\n",
    "        usr = re.search(r'(user=)(\\w+)', line)\n",
    "    elif \"for invalid user\" in line:\n",
    "        usr = re.search(r'(\\buser\\s)(\\w+)', line)\n",
    "    if usr is not None:\n",
    "        return usr.group(2)\n",
    "\n",
    "# parse an IP from a line\n",
    "def ParseIP(line):\n",
    "    if ' from ' in line:\n",
    "        ip = re.search(r'(\\bfrom\\s)(\\b(?:[0-9]{1,3}\\.){3}[0-9]{1,3}\\b)', line)\n",
    "        if ip is not None:\n",
    "            return ip.group(2)\n",
    "    elif ' rhost=' in line:\n",
    "        ip = re.search(r'(\\brhost=)(\\b(?:[0-9]{1,3}\\.){3}[0-9]{1,3}\\b)', line)\n",
    "        if ip is not None:\n",
    "            return ip.group(2)\n",
    "    else:\n",
    "        print('ERROR in extracting the IP')\n",
    "\n",
    "# parse a date from the line\n",
    "def ParseDate(line):\n",
    "    date = re.search(r'^[A-Za-z]{3}\\s*[0-9]{1,2}\\s[0-9]{1,2}:[0-9]{2}:[0-9]{2}', line)\n",
    "    if date is not None:\n",
    "        return date.group(0)\n",
    "\n",
    "# parse a command from a line\n",
    "def ParseCmd(line):\n",
    "    # parse command to end of line \n",
    "    cmd = re.search(r'(\\bCOMMAND=)(.+?$)', line)\n",
    "    if cmd is not None:\n",
    "        return cmd.group(2)\n",
    "    \n",
    "# parse hostname\n",
    "def ParseHostname(line):\n",
    "    # parse hostname\n",
    "    hostname = re.search(r'(^\\w+\\ \\d+\\ \\d{2}:\\d{2}:\\d{2})\\ ([\\w\\-]+)\\ ', line)\n",
    "    if hostname is not None:\n",
    "        return hostname.group(2)\n"
   ]
  },
  {
   "cell_type": "code",
   "execution_count": null,
   "metadata": {},
   "outputs": [],
   "source": []
  },
  {
   "cell_type": "code",
   "execution_count": 8,
   "metadata": {},
   "outputs": [],
   "source": [
    "def get_fail_line_info(line):\n",
    "    if 'Too many authentication failures' in line:\n",
    "        return\n",
    "    elif 'failed adding user' in line:\n",
    "        return\n",
    "    else:\n",
    "        date = ParseDate(line)\n",
    "        usr = ParseUsr(line)\n",
    "        ip = ParseIP(line)   \n",
    "        hostname=ParseHostname(line)\n",
    "    return ['2017 ' + date, hostname, usr, ip]"
   ]
  },
  {
   "cell_type": "code",
   "execution_count": null,
   "metadata": {},
   "outputs": [],
   "source": []
  },
  {
   "cell_type": "code",
   "execution_count": 9,
   "metadata": {},
   "outputs": [],
   "source": [
    "lines = [d for d in data if 'fail' in d]\n",
    "out_matrix = []\n",
    "for line in lines:\n",
    "    info = get_fail_line_info(line)\n",
    "    if info:\n",
    "        info.append(line)\n",
    "        out_matrix.append(info)"
   ]
  },
  {
   "cell_type": "code",
   "execution_count": null,
   "metadata": {},
   "outputs": [],
   "source": []
  },
  {
   "cell_type": "code",
   "execution_count": null,
   "metadata": {},
   "outputs": [],
   "source": []
  },
  {
   "cell_type": "code",
   "execution_count": 10,
   "metadata": {},
   "outputs": [],
   "source": [
    "import pandas as pd\n",
    "%matplotlib inline"
   ]
  },
  {
   "cell_type": "code",
   "execution_count": 11,
   "metadata": {},
   "outputs": [],
   "source": [
    "df = pd.DataFrame(out_matrix,columns=['date','hostname','user','ip','logline'])\n",
    "df['date'] = pd.to_datetime(df['date'],format='%Y %b %d %H:%M:%S')\n",
    "df.index = df['date']\n",
    "df = df[['hostname','user','ip','logline']]"
   ]
  },
  {
   "cell_type": "code",
   "execution_count": 12,
   "metadata": {},
   "outputs": [
    {
     "name": "stdout",
     "output_type": "stream",
     "text": [
      "<class 'pandas.core.frame.DataFrame'>\n",
      "DatetimeIndex: 484 entries, 2017-03-29 10:42:43 to 2017-04-20 13:51:02\n",
      "Data columns (total 4 columns):\n",
      "hostname    313 non-null object\n",
      "user        343 non-null object\n",
      "ip          484 non-null object\n",
      "logline     484 non-null object\n",
      "dtypes: object(4)\n",
      "memory usage: 18.9+ KB\n"
     ]
    }
   ],
   "source": [
    "df.info()"
   ]
  },
  {
   "cell_type": "code",
   "execution_count": 13,
   "metadata": {},
   "outputs": [
    {
     "data": {
      "text/html": [
       "<div>\n",
       "<style scoped>\n",
       "    .dataframe tbody tr th:only-of-type {\n",
       "        vertical-align: middle;\n",
       "    }\n",
       "\n",
       "    .dataframe tbody tr th {\n",
       "        vertical-align: top;\n",
       "    }\n",
       "\n",
       "    .dataframe thead th {\n",
       "        text-align: right;\n",
       "    }\n",
       "</style>\n",
       "<table border=\"1\" class=\"dataframe\">\n",
       "  <thead>\n",
       "    <tr style=\"text-align: right;\">\n",
       "      <th></th>\n",
       "      <th>hostname</th>\n",
       "      <th>user</th>\n",
       "      <th>ip</th>\n",
       "      <th>logline</th>\n",
       "    </tr>\n",
       "    <tr>\n",
       "      <th>date</th>\n",
       "      <th></th>\n",
       "      <th></th>\n",
       "      <th></th>\n",
       "      <th></th>\n",
       "    </tr>\n",
       "  </thead>\n",
       "  <tbody>\n",
       "    <tr>\n",
       "      <th>2017-03-29 10:42:43</th>\n",
       "      <td>ip-10-77-20-248</td>\n",
       "      <td>elastic_user_7</td>\n",
       "      <td>127.0.0.1</td>\n",
       "      <td>Mar 29 10:42:43 ip-10-77-20-248 sshd[1193]: pa...</td>\n",
       "    </tr>\n",
       "    <tr>\n",
       "      <th>2017-03-29 13:07:13</th>\n",
       "      <td>ip-10-77-20-248</td>\n",
       "      <td>elastic_user_0</td>\n",
       "      <td>85.245.107.41</td>\n",
       "      <td>Mar 29 13:07:13 ip-10-77-20-248 sshd[2257]: pa...</td>\n",
       "    </tr>\n",
       "    <tr>\n",
       "      <th>2017-03-29 13:41:13</th>\n",
       "      <td>ip-10-77-20-248</td>\n",
       "      <td>elastic_user_2</td>\n",
       "      <td>85.245.107.41</td>\n",
       "      <td>Mar 29 13:41:13 ip-10-77-20-248 sshd[2328]: pa...</td>\n",
       "    </tr>\n",
       "    <tr>\n",
       "      <th>2017-03-29 14:15:38</th>\n",
       "      <td>ip-10-77-20-248</td>\n",
       "      <td>None</td>\n",
       "      <td>181.25.206.27</td>\n",
       "      <td>Mar 29 14:15:38 ip-10-77-20-248 sshd[2414]: pa...</td>\n",
       "    </tr>\n",
       "    <tr>\n",
       "      <th>2017-03-29 14:15:52</th>\n",
       "      <td>ip-10-77-20-248</td>\n",
       "      <td>None</td>\n",
       "      <td>181.25.206.27</td>\n",
       "      <td>Mar 29 14:15:52 ip-10-77-20-248 sshd[2414]: PA...</td>\n",
       "    </tr>\n",
       "  </tbody>\n",
       "</table>\n",
       "</div>"
      ],
      "text/plain": [
       "                            hostname            user             ip  \\\n",
       "date                                                                  \n",
       "2017-03-29 10:42:43  ip-10-77-20-248  elastic_user_7      127.0.0.1   \n",
       "2017-03-29 13:07:13  ip-10-77-20-248  elastic_user_0  85.245.107.41   \n",
       "2017-03-29 13:41:13  ip-10-77-20-248  elastic_user_2  85.245.107.41   \n",
       "2017-03-29 14:15:38  ip-10-77-20-248            None  181.25.206.27   \n",
       "2017-03-29 14:15:52  ip-10-77-20-248            None  181.25.206.27   \n",
       "\n",
       "                                                               logline  \n",
       "date                                                                    \n",
       "2017-03-29 10:42:43  Mar 29 10:42:43 ip-10-77-20-248 sshd[1193]: pa...  \n",
       "2017-03-29 13:07:13  Mar 29 13:07:13 ip-10-77-20-248 sshd[2257]: pa...  \n",
       "2017-03-29 13:41:13  Mar 29 13:41:13 ip-10-77-20-248 sshd[2328]: pa...  \n",
       "2017-03-29 14:15:38  Mar 29 14:15:38 ip-10-77-20-248 sshd[2414]: pa...  \n",
       "2017-03-29 14:15:52  Mar 29 14:15:52 ip-10-77-20-248 sshd[2414]: PA...  "
      ]
     },
     "execution_count": 13,
     "metadata": {},
     "output_type": "execute_result"
    }
   ],
   "source": [
    "df.head()"
   ]
  },
  {
   "cell_type": "code",
   "execution_count": null,
   "metadata": {},
   "outputs": [],
   "source": []
  },
  {
   "cell_type": "code",
   "execution_count": 14,
   "metadata": {},
   "outputs": [
    {
     "data": {
      "text/plain": [
       "array(['elastic_user_7', 'elastic_user_0', 'elastic_user_2', None,\n",
       "       'elastic_user_6', 'elastic_user_4', 'root', 'elastic_user_3',\n",
       "       'elastic_user_8', 'elastic_user_9', 'elastic_user_5',\n",
       "       'elastic_user_1', 'bin'], dtype=object)"
      ]
     },
     "execution_count": 14,
     "metadata": {},
     "output_type": "execute_result"
    }
   ],
   "source": [
    "df['user'].unique()"
   ]
  },
  {
   "cell_type": "code",
   "execution_count": 15,
   "metadata": {},
   "outputs": [],
   "source": [
    "df.to_csv('../data/failed_auth.log.csv')"
   ]
  }
 ],
 "metadata": {
  "kernelspec": {
   "display_name": "Python 3",
   "language": "python",
   "name": "python3"
  },
  "language_info": {
   "codemirror_mode": {
    "name": "ipython",
    "version": 3
   },
   "file_extension": ".py",
   "mimetype": "text/x-python",
   "name": "python",
   "nbconvert_exporter": "python",
   "pygments_lexer": "ipython3",
   "version": "3.5.4"
  }
 },
 "nbformat": 4,
 "nbformat_minor": 2
}
