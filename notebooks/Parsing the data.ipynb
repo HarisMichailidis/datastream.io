{
 "cells": [
  {
   "cell_type": "markdown",
   "metadata": {},
   "source": [
    "## Read and Parse the logs"
   ]
  },
  {
   "cell_type": "code",
   "execution_count": 1,
   "metadata": {},
   "outputs": [],
   "source": [
    "with open('../data/auth.log') as f:\n",
    "    data = f.readlines()"
   ]
  },
  {
   "cell_type": "code",
   "execution_count": 2,
   "metadata": {},
   "outputs": [
    {
     "data": {
      "text/plain": [
       "['Mar 27 13:06:56 ip-10-77-20-248 sshd[1291]: Server listening on 0.0.0.0 port 22.\\n',\n",
       " 'Mar 27 13:06:56 ip-10-77-20-248 sshd[1291]: Server listening on :: port 22.\\n',\n",
       " 'Mar 27 13:06:56 ip-10-77-20-248 systemd-logind[1118]: Watching system buttons on /dev/input/event0 (Power Button)\\n',\n",
       " 'Mar 27 13:06:56 ip-10-77-20-248 systemd-logind[1118]: Watching system buttons on /dev/input/event1 (Sleep Button)\\n',\n",
       " 'Mar 27 13:06:56 ip-10-77-20-248 systemd-logind[1118]: New seat seat0.\\n',\n",
       " 'Mar 27 13:08:09 ip-10-77-20-248 sshd[1361]: Accepted publickey for ubuntu from 85.245.107.41 port 54259 ssh2: RSA SHA256:Kl8kPGZrTiz7g4FO1hyqHdsSBBb5Fge6NWOobN03XJg\\n',\n",
       " 'Mar 27 13:08:09 ip-10-77-20-248 sshd[1361]: pam_unix(sshd:session): session opened for user ubuntu by (uid=0)\\n',\n",
       " 'Mar 27 13:08:09 ip-10-77-20-248 systemd: pam_unix(systemd-user:session): session opened for user ubuntu by (uid=0)\\n',\n",
       " 'Mar 27 13:08:09 ip-10-77-20-248 systemd-logind[1118]: New session 1 of user ubuntu.\\n',\n",
       " 'Mar 27 13:09:37 ip-10-77-20-248 sudo:   ubuntu : TTY=pts/0 ; PWD=/home/ubuntu ; USER=root ; COMMAND=/usr/bin/curl -L -O https://artifacts.elastic.co/downloads/beats/filebeat/filebeat-5.2.2-amd64.deb\\n']"
      ]
     },
     "execution_count": 2,
     "metadata": {},
     "output_type": "execute_result"
    }
   ],
   "source": [
    "data[:10]"
   ]
  },
  {
   "cell_type": "code",
   "execution_count": null,
   "metadata": {},
   "outputs": [],
   "source": []
  },
  {
   "cell_type": "markdown",
   "metadata": {},
   "source": [
    "## Testing Pygrok"
   ]
  },
  {
   "cell_type": "code",
   "execution_count": 3,
   "metadata": {},
   "outputs": [],
   "source": [
    "import pygrok"
   ]
  },
  {
   "cell_type": "code",
   "execution_count": 4,
   "metadata": {},
   "outputs": [
    {
     "name": "stdout",
     "output_type": "stream",
     "text": [
      "{'gender': 'male', 'age': '25', 'weight': '68.5', 'name': 'gary'}\n"
     ]
    }
   ],
   "source": [
    "from pygrok import Grok\n",
    "text = 'gary is male, 25 years old and weighs 68.5 kilograms'\n",
    "pattern = '%{WORD:name} is %{WORD:gender}, %{NUMBER:age} years old and weighs %{NUMBER:weight} kilograms'\n",
    "grok = Grok(pattern)\n",
    "print(grok.match(text))"
   ]
  },
  {
   "cell_type": "markdown",
   "metadata": {},
   "source": [
    "### Following the instructions from here: https://www.elastic.co/blog/grokking-the-linux-authorization-logs"
   ]
  },
  {
   "cell_type": "code",
   "execution_count": 5,
   "metadata": {},
   "outputs": [
    {
     "name": "stdout",
     "output_type": "stream",
     "text": [
      "None\n"
     ]
    }
   ],
   "source": [
    "text = 'Feb 21 00:13:35 localhost sshd[7483]: Accepted password for vagrant from 192.168.33.1 port 58803 ssh2'\n",
    "pattern = '%{SYSLOGTIMESTAMP:system.auth.timestamp} %{SYSLOGHOST:system.auth.hostname} sshd(?:\\\\[%{POSINT:system.auth.pid}\\\\])?: %{DATA:system.auth.ssh.event} %{DATA:system.auth.ssh.method} for (invalid user )?%{DATA:system.auth.user} from %{IPORHOST:system.auth.ip} port %{NUMBER:system.auth.port} ssh2(: %{GREEDYDATA:system.auth.ssh.signature})?'\n",
    "grok = Grok(pattern)\n",
    "print(grok.match(text))"
   ]
  },
  {
   "cell_type": "code",
   "execution_count": 6,
   "metadata": {},
   "outputs": [
    {
     "name": "stdout",
     "output_type": "stream",
     "text": [
      "None\n"
     ]
    }
   ],
   "source": [
    "text = 'Feb 21 21:56:12 localhost sshd[3430]: Invalid user test from 10.0.2.2'\n",
    "pattern = '%{SYSLOGTIMESTAMP:system.auth.timestamp} %{SYSLOGHOST:system.auth.hostname} sshd(?:\\\\[%{POSINT:system.auth.pid}\\\\])?: %{DATA:system.auth.ssh.event} user %{DATA:system.auth.user} from %{IPORHOST:system.auth.ip}'\n",
    "grok = Grok(pattern)\n",
    "print(grok.match(text))"
   ]
  },
  {
   "cell_type": "markdown",
   "metadata": {},
   "source": [
    "### The above method doesn't seem to work"
   ]
  },
  {
   "cell_type": "code",
   "execution_count": null,
   "metadata": {},
   "outputs": [],
   "source": []
  },
  {
   "cell_type": "markdown",
   "metadata": {},
   "source": [
    "## Logalyzer - https://github.com/hatRiot/logalyzer"
   ]
  },
  {
   "cell_type": "code",
   "execution_count": 7,
   "metadata": {},
   "outputs": [],
   "source": [
    "import re\n",
    "# import gzip\n",
    "\n",
    "#\n",
    "# ParseLogs.py\n",
    "# Parsing component of Logalyzer.  Compiled in Python 2.6\n",
    "#\n",
    "\n",
    "# log object \n",
    "# Stuck into a dictionary by user:Log, where log houses\n",
    "# logs, fails, successes, logged IPs, and commands used\n",
    "class Log:\n",
    "    # dump date of first log\n",
    "    def first_date(self):\n",
    "        if len(self.logs) > 0:\n",
    "            date = None\n",
    "            i = 0\n",
    "            # sometimes the first few aren't right, so look\n",
    "            # until we find one\n",
    "            while i < len(self.logs) and date is None:\n",
    "                date = ParseDate(self.logs[i])\n",
    "                i += 1\n",
    "            return date\n",
    "    # dump date of last log\n",
    "    def last_date(self):\n",
    "        if len(self.logs) > 0:\n",
    "            return ParseDate(self.logs[len(self.logs) - 1])\n",
    "    def __init__(self, usr):\n",
    "        self.usr = usr\n",
    "        self.logs = []\n",
    "        self.fail_logs = []\n",
    "        self.succ_logs = []\n",
    "        self.ips = []\n",
    "        self.commands = []\n",
    "\n",
    "# parse user from various lines\n",
    "def ParseUsr(line):\n",
    "    usr = None\n",
    "    if \"Accepted password\" in line:\n",
    "        usr = re.search(r'(\\bfor\\s)(\\w+)', line)\n",
    "    elif \"sudo:\" in line:\n",
    "        usr = re.search(r'(sudo:\\s+)(\\w+)', line)\n",
    "    elif \"authentication failure\" in line:\n",
    "        usr = re.search(r'USER=\\w+', line)\n",
    "    elif \"for invalid user\" in line:\n",
    "        usr = re.search(r'(\\buser\\s)(\\w+)', line)\n",
    "    if usr is not None:\n",
    "        return usr.group(2)\n",
    "\n",
    "# parse an IP from a line\n",
    "def ParseIP(line):\n",
    "    ip = re.search(r'(\\bfrom\\s)(\\b(?:[0-9]{1,3}\\.){3}[0-9]{1,3}\\b)', line)\n",
    "    if ip is not None:\n",
    "        return ip.group(2)\n",
    "\n",
    "# parse a date from the line\n",
    "def ParseDate(line):\n",
    "    date = re.search(r'^[A-Za-z]{3}\\s*[0-9]{1,2}\\s[0-9]{1,2}:[0-9]{2}:[0-9]{2}', line)\n",
    "    if date is not None:\n",
    "        return date.group(0)\n",
    "\n",
    "# parse a command from a line\n",
    "def ParseCmd(line):\n",
    "    # parse command to end of line \n",
    "    cmd = re.search(r'(\\bCOMMAND=)(.+?$)', line)\n",
    "    if cmd is not None:\n",
    "        return cmd.group(2)\n",
    "\n",
    "# begin parsing the passed LOG\n",
    "def ParseLogs(log):\n",
    "    # initialize the dictionary\n",
    "    logs = {}\n",
    "\n",
    "    # parse the log\n",
    "#     f = None\n",
    "#     try:\n",
    "#         f = gzip.open(LOG, 'r') if '.gz' in LOG else open(LOG, 'r')\n",
    "#         log = f.read()\n",
    "#     except Exception as e:\n",
    "#         print('[-] Error opening \\'%s\\': %s'%(LOG,e))\n",
    "#         return None\n",
    "#     finally:\n",
    "#         if f is not None: f.close()\n",
    "\n",
    "    for line in log.split('\\n'):\n",
    "        # match a login\n",
    "        if \"Accepted password for\" in line:\n",
    "            usr = ParseUsr(line)\n",
    "            \n",
    "            # add 'em if they don't exist\n",
    "            if not usr in logs:\n",
    "                logs[usr] = Log(usr)\n",
    "            \n",
    "            ip = ParseIP(line)\n",
    "            # set info\n",
    "            if not ip in logs[usr].ips:\n",
    "                logs[usr].ips.append(ip)\n",
    "            logs[usr].succ_logs.append(line.rstrip('\\n'))\n",
    "            logs[usr].logs.append(line.rstrip('\\n'))\n",
    "\n",
    "        # match a failed login\n",
    "        elif \"Failed password for\" in line:\n",
    "            # parse user\n",
    "            usr = ParseUsr(line)\n",
    "\n",
    "            if not usr in logs:\n",
    "                logs[usr] = Log(usr)\n",
    "                \n",
    "            ip = ParseIP(line)\n",
    "\n",
    "            if not ip in logs[usr].ips:\n",
    "                logs[usr].ips.append(ip)\n",
    "            logs[usr].fail_logs.append(line.rstrip('\\n'))\n",
    "            logs[usr].logs.append(line.rstrip('\\n'))\n",
    "            \n",
    "        # match failed auth\n",
    "        elif \":auth): authentication failure;\" in line:\n",
    "            # so there are three flavors of authfail we care about;\n",
    "            # su, sudo, and ssh.  Lets parse each.\n",
    "            usr = re.search(r'(\\blogname=)(\\w+)', line)\n",
    "            if usr is not None:\n",
    "                usr = usr.group(2)\n",
    "            # parse a fail log to ssh\n",
    "            if \"(sshd:auth)\" in line:\n",
    "                # ssh doesn't have a logname hurr\n",
    "                usr = ParseUsr(line)\n",
    "                if not usr in logs:\n",
    "                    logs[usr] = Log(usr)\n",
    "                logs[usr].ips.append(ParseIP(line))\n",
    "            # parse sudo/su fails\n",
    "            else:    \n",
    "                if not usr in logs:\n",
    "                    logs[usr] = Log(usr)\n",
    "            logs[usr].fail_logs.append(line.rstrip('\\n'))\n",
    "            logs[usr].logs.append(line.rstrip('\\n'))\n",
    "            # match commands\n",
    "        elif \"sudo:\" in line:\n",
    "            # parse user\n",
    "            usr = ParseUsr(line)\n",
    "            if not usr in logs:\n",
    "                logs[usr] = Log(usr)\n",
    "    \n",
    "            cmd = ParseCmd(line)\n",
    "            # append the command if it isn't there already\n",
    "            if cmd is not None:\n",
    "                if not cmd in logs[usr].commands:\n",
    "                    logs[usr].commands.append(cmd)\n",
    "            logs[usr].logs.append(line.rstrip('\\n'))\n",
    "    return logs"
   ]
  },
  {
   "cell_type": "code",
   "execution_count": null,
   "metadata": {},
   "outputs": [],
   "source": []
  },
  {
   "cell_type": "code",
   "execution_count": null,
   "metadata": {},
   "outputs": [],
   "source": []
  },
  {
   "cell_type": "code",
   "execution_count": 8,
   "metadata": {},
   "outputs": [],
   "source": [
    "parsed_logs = ParseLogs(''.join(data))"
   ]
  },
  {
   "cell_type": "code",
   "execution_count": 9,
   "metadata": {},
   "outputs": [
    {
     "data": {
      "text/plain": [
       "dict_keys(['elastic_user_5', 'ems', 'cubrid', 'pam_unix', 'pruebas', 'elastic_user_1', 'openerp', 'elastic_user_9', 'elastic_user_4', 'elastic_user_6', 'guest', 'elastic_user_2', 'cloud', 'test', 'elastic_user_7', None, 'user1', 'johnny', 'elastic_user_3', 'default', 'webconfig', 'ajay', 'elastic_user_0', 'support', 'admin', 'monitor', 'root', 'ubnt', 'ubuntu', 'elastic_user_8', 'pi'])"
      ]
     },
     "execution_count": 9,
     "metadata": {},
     "output_type": "execute_result"
    }
   ],
   "source": [
    "parsed_logs.keys()"
   ]
  },
  {
   "cell_type": "code",
   "execution_count": 10,
   "metadata": {},
   "outputs": [
    {
     "data": {
      "text/plain": [
       "{'commands': ['/usr/bin/apt-get install zip',\n",
       "  '/usr/sbin/service sshd restart',\n",
       "  '/usr/sbin/service filebeat stop',\n",
       "  '/usr/sbin/service filebeat start'],\n",
       " 'fail_logs': [],\n",
       " 'ips': [],\n",
       " 'logs': ['Mar 27 16:50:03 ip-10-77-20-248 sudo:     root : TTY=pts/0 ; PWD=/usr/share/filebeat/scripts ; USER=root ; COMMAND=/usr/bin/apt-get install zip',\n",
       "  'Mar 29 11:44:38 ip-10-77-20-248 sudo:     root : TTY=pts/0 ; PWD=/home/ubuntu ; USER=root ; COMMAND=/usr/sbin/service sshd restart',\n",
       "  'Mar 29 11:45:36 ip-10-77-20-248 sudo:     root : TTY=pts/0 ; PWD=/home/ubuntu ; USER=root ; COMMAND=/usr/sbin/service filebeat stop',\n",
       "  'Mar 29 11:52:42 ip-10-77-20-248 sudo:     root : TTY=pts/0 ; PWD=/home/ubuntu ; USER=root ; COMMAND=/usr/sbin/service filebeat start',\n",
       "  'Mar 29 11:53:36 ip-10-77-20-248 sudo:     root : TTY=pts/0 ; PWD=/home/ubuntu ; USER=root ; COMMAND=/usr/sbin/service filebeat stop'],\n",
       " 'succ_logs': [],\n",
       " 'usr': 'root'}"
      ]
     },
     "execution_count": 10,
     "metadata": {},
     "output_type": "execute_result"
    }
   ],
   "source": [
    "parsed_logs['root'].__dict__"
   ]
  }
 ],
 "metadata": {
  "kernelspec": {
   "display_name": "Python 3",
   "language": "python",
   "name": "python3"
  },
  "language_info": {
   "codemirror_mode": {
    "name": "ipython",
    "version": 3
   },
   "file_extension": ".py",
   "mimetype": "text/x-python",
   "name": "python",
   "nbconvert_exporter": "python",
   "pygments_lexer": "ipython3",
   "version": "3.5.4"
  }
 },
 "nbformat": 4,
 "nbformat_minor": 2
}
