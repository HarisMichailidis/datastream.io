{
 "cells": [
  {
   "cell_type": "markdown",
   "metadata": {},
   "source": [
    "## Read and Parse the logs"
   ]
  },
  {
   "cell_type": "code",
   "execution_count": 1,
   "metadata": {},
   "outputs": [],
   "source": [
    "import pandas as pd\n",
    "%matplotlib inline"
   ]
  },
  {
   "cell_type": "code",
   "execution_count": 2,
   "metadata": {},
   "outputs": [],
   "source": [
    "df = pd.read_csv('../data/failed_auth.log.csv')\n",
    "df.index = pd.to_datetime(df['date'])\n",
    "df.drop(columns=['date','logline'],inplace=True)"
   ]
  },
  {
   "cell_type": "code",
   "execution_count": 3,
   "metadata": {},
   "outputs": [
    {
     "name": "stdout",
     "output_type": "stream",
     "text": [
      "<class 'pandas.core.frame.DataFrame'>\n",
      "DatetimeIndex: 484 entries, 2017-03-29 10:42:43 to 2017-04-20 13:51:02\n",
      "Data columns (total 3 columns):\n",
      "hostname    313 non-null object\n",
      "user        343 non-null object\n",
      "ip          484 non-null object\n",
      "dtypes: object(3)\n",
      "memory usage: 15.1+ KB\n"
     ]
    }
   ],
   "source": [
    "df.info()"
   ]
  },
  {
   "cell_type": "code",
   "execution_count": 4,
   "metadata": {},
   "outputs": [
    {
     "data": {
      "text/html": [
       "<div>\n",
       "<style scoped>\n",
       "    .dataframe tbody tr th:only-of-type {\n",
       "        vertical-align: middle;\n",
       "    }\n",
       "\n",
       "    .dataframe tbody tr th {\n",
       "        vertical-align: top;\n",
       "    }\n",
       "\n",
       "    .dataframe thead th {\n",
       "        text-align: right;\n",
       "    }\n",
       "</style>\n",
       "<table border=\"1\" class=\"dataframe\">\n",
       "  <thead>\n",
       "    <tr style=\"text-align: right;\">\n",
       "      <th></th>\n",
       "      <th>hostname</th>\n",
       "      <th>user</th>\n",
       "      <th>ip</th>\n",
       "    </tr>\n",
       "    <tr>\n",
       "      <th>date</th>\n",
       "      <th></th>\n",
       "      <th></th>\n",
       "      <th></th>\n",
       "    </tr>\n",
       "  </thead>\n",
       "  <tbody>\n",
       "    <tr>\n",
       "      <th>2017-03-29 10:42:43</th>\n",
       "      <td>ip-10-77-20-248</td>\n",
       "      <td>elastic_user_7</td>\n",
       "      <td>127.0.0.1</td>\n",
       "    </tr>\n",
       "    <tr>\n",
       "      <th>2017-03-29 13:07:13</th>\n",
       "      <td>ip-10-77-20-248</td>\n",
       "      <td>elastic_user_0</td>\n",
       "      <td>85.245.107.41</td>\n",
       "    </tr>\n",
       "    <tr>\n",
       "      <th>2017-03-29 13:41:13</th>\n",
       "      <td>ip-10-77-20-248</td>\n",
       "      <td>elastic_user_2</td>\n",
       "      <td>85.245.107.41</td>\n",
       "    </tr>\n",
       "    <tr>\n",
       "      <th>2017-03-29 14:15:38</th>\n",
       "      <td>ip-10-77-20-248</td>\n",
       "      <td>NaN</td>\n",
       "      <td>181.25.206.27</td>\n",
       "    </tr>\n",
       "    <tr>\n",
       "      <th>2017-03-29 14:15:52</th>\n",
       "      <td>ip-10-77-20-248</td>\n",
       "      <td>NaN</td>\n",
       "      <td>181.25.206.27</td>\n",
       "    </tr>\n",
       "  </tbody>\n",
       "</table>\n",
       "</div>"
      ],
      "text/plain": [
       "                            hostname            user             ip\n",
       "date                                                               \n",
       "2017-03-29 10:42:43  ip-10-77-20-248  elastic_user_7      127.0.0.1\n",
       "2017-03-29 13:07:13  ip-10-77-20-248  elastic_user_0  85.245.107.41\n",
       "2017-03-29 13:41:13  ip-10-77-20-248  elastic_user_2  85.245.107.41\n",
       "2017-03-29 14:15:38  ip-10-77-20-248             NaN  181.25.206.27\n",
       "2017-03-29 14:15:52  ip-10-77-20-248             NaN  181.25.206.27"
      ]
     },
     "execution_count": 4,
     "metadata": {},
     "output_type": "execute_result"
    }
   ],
   "source": [
    "df.head()"
   ]
  },
  {
   "cell_type": "code",
   "execution_count": 5,
   "metadata": {},
   "outputs": [
    {
     "data": {
      "text/plain": [
       "<matplotlib.axes._subplots.AxesSubplot at 0x1bb51eec198>"
      ]
     },
     "execution_count": 5,
     "metadata": {},
     "output_type": "execute_result"
    },
    {
     "data": {
      "image/png": "[encoded data removed]",
      "text/plain": [
       "<matplotlib.figure.Figure at 0x1bb50ef60f0>"
      ]
     },
     "metadata": {},
     "output_type": "display_data"
    }
   ],
   "source": [
    "df.resample('10Min').count().plot()"
   ]
  },
  {
   "cell_type": "code",
   "execution_count": null,
   "metadata": {},
   "outputs": [],
   "source": []
  },
  {
   "cell_type": "code",
   "execution_count": 6,
   "metadata": {},
   "outputs": [
    {
     "data": {
      "text/plain": [
       "count     56.000000\n",
       "mean       4.660714\n",
       "std       15.577696\n",
       "min        1.000000\n",
       "25%        2.000000\n",
       "50%        2.000000\n",
       "75%        2.000000\n",
       "max      115.000000\n",
       "dtype: float64"
      ]
     },
     "execution_count": 6,
     "metadata": {},
     "output_type": "execute_result"
    }
   ],
   "source": [
    "grouped_size = df.groupby([pd.Grouper(freq='10Min'),'user','ip','hostname']).size()\n",
    "grouped_size.describe()"
   ]
  },
  {
   "cell_type": "code",
   "execution_count": 7,
   "metadata": {},
   "outputs": [
    {
     "data": {
      "text/html": [
       "<div>\n",
       "<style scoped>\n",
       "    .dataframe tbody tr th:only-of-type {\n",
       "        vertical-align: middle;\n",
       "    }\n",
       "\n",
       "    .dataframe tbody tr th {\n",
       "        vertical-align: top;\n",
       "    }\n",
       "\n",
       "    .dataframe thead th {\n",
       "        text-align: right;\n",
       "    }\n",
       "</style>\n",
       "<table border=\"1\" class=\"dataframe\">\n",
       "  <thead>\n",
       "    <tr style=\"text-align: right;\">\n",
       "      <th></th>\n",
       "      <th></th>\n",
       "      <th></th>\n",
       "      <th></th>\n",
       "      <th>0</th>\n",
       "    </tr>\n",
       "    <tr>\n",
       "      <th>date</th>\n",
       "      <th>user</th>\n",
       "      <th>ip</th>\n",
       "      <th>hostname</th>\n",
       "      <th></th>\n",
       "    </tr>\n",
       "  </thead>\n",
       "  <tbody>\n",
       "    <tr>\n",
       "      <th>2017-03-29 10:40:00</th>\n",
       "      <th>elastic_user_7</th>\n",
       "      <th>127.0.0.1</th>\n",
       "      <th>ip-10-77-20-248</th>\n",
       "      <td>1</td>\n",
       "    </tr>\n",
       "    <tr>\n",
       "      <th>2017-03-29 13:00:00</th>\n",
       "      <th>elastic_user_0</th>\n",
       "      <th>85.245.107.41</th>\n",
       "      <th>ip-10-77-20-248</th>\n",
       "      <td>1</td>\n",
       "    </tr>\n",
       "    <tr>\n",
       "      <th>2017-03-29 13:40:00</th>\n",
       "      <th>elastic_user_2</th>\n",
       "      <th>85.245.107.41</th>\n",
       "      <th>ip-10-77-20-248</th>\n",
       "      <td>1</td>\n",
       "    </tr>\n",
       "    <tr>\n",
       "      <th>2017-03-29 17:30:00</th>\n",
       "      <th>elastic_user_6</th>\n",
       "      <th>85.245.107.41</th>\n",
       "      <th>ip-10-77-20-248</th>\n",
       "      <td>1</td>\n",
       "    </tr>\n",
       "    <tr>\n",
       "      <th>2017-03-29 19:30:00</th>\n",
       "      <th>elastic_user_4</th>\n",
       "      <th>24.151.103.17</th>\n",
       "      <th>ip-10-77-20-248</th>\n",
       "      <td>1</td>\n",
       "    </tr>\n",
       "    <tr>\n",
       "      <th>2017-03-29 23:10:00</th>\n",
       "      <th>root</th>\n",
       "      <th>218.60.136.106</th>\n",
       "      <th>ip-10-77-20-248</th>\n",
       "      <td>2</td>\n",
       "    </tr>\n",
       "    <tr>\n",
       "      <th>2017-03-30 02:00:00</th>\n",
       "      <th>root</th>\n",
       "      <th>106.57.58.19</th>\n",
       "      <th>ip-10-77-20-248</th>\n",
       "      <td>2</td>\n",
       "    </tr>\n",
       "    <tr>\n",
       "      <th>2017-03-30 03:00:00</th>\n",
       "      <th>root</th>\n",
       "      <th>181.23.168.176</th>\n",
       "      <th>ip-10-77-20-248</th>\n",
       "      <td>2</td>\n",
       "    </tr>\n",
       "    <tr>\n",
       "      <th>2017-03-30 10:50:00</th>\n",
       "      <th>elastic_user_3</th>\n",
       "      <th>85.245.107.41</th>\n",
       "      <th>ip-10-77-20-248</th>\n",
       "      <td>1</td>\n",
       "    </tr>\n",
       "    <tr>\n",
       "      <th>2017-03-30 11:40:00</th>\n",
       "      <th>root</th>\n",
       "      <th>151.241.67.217</th>\n",
       "      <th>ip-10-77-20-248</th>\n",
       "      <td>2</td>\n",
       "    </tr>\n",
       "  </tbody>\n",
       "</table>\n",
       "</div>"
      ],
      "text/plain": [
       "                                                                   0\n",
       "date                user           ip             hostname          \n",
       "2017-03-29 10:40:00 elastic_user_7 127.0.0.1      ip-10-77-20-248  1\n",
       "2017-03-29 13:00:00 elastic_user_0 85.245.107.41  ip-10-77-20-248  1\n",
       "2017-03-29 13:40:00 elastic_user_2 85.245.107.41  ip-10-77-20-248  1\n",
       "2017-03-29 17:30:00 elastic_user_6 85.245.107.41  ip-10-77-20-248  1\n",
       "2017-03-29 19:30:00 elastic_user_4 24.151.103.17  ip-10-77-20-248  1\n",
       "2017-03-29 23:10:00 root           218.60.136.106 ip-10-77-20-248  2\n",
       "2017-03-30 02:00:00 root           106.57.58.19   ip-10-77-20-248  2\n",
       "2017-03-30 03:00:00 root           181.23.168.176 ip-10-77-20-248  2\n",
       "2017-03-30 10:50:00 elastic_user_3 85.245.107.41  ip-10-77-20-248  1\n",
       "2017-03-30 11:40:00 root           151.241.67.217 ip-10-77-20-248  2"
      ]
     },
     "execution_count": 7,
     "metadata": {},
     "output_type": "execute_result"
    }
   ],
   "source": [
    "pd.DataFrame(grouped_size).head(10)"
   ]
  },
  {
   "cell_type": "code",
   "execution_count": null,
   "metadata": {},
   "outputs": [],
   "source": []
  },
  {
   "cell_type": "code",
   "execution_count": null,
   "metadata": {},
   "outputs": [],
   "source": []
  },
  {
   "cell_type": "markdown",
   "metadata": {},
   "source": [
    "# Import dsio"
   ]
  },
  {
   "cell_type": "code",
   "execution_count": 8,
   "metadata": {},
   "outputs": [],
   "source": [
    "from dsio.anomaly_detectors import Gaussian1D, Percentile1D, compute_confusion_matrix\n",
    "x = grouped_size"
   ]
  },
  {
   "cell_type": "code",
   "execution_count": null,
   "metadata": {},
   "outputs": [],
   "source": []
  },
  {
   "cell_type": "markdown",
   "metadata": {},
   "source": [
    "### Gaussian1D"
   ]
  },
  {
   "cell_type": "code",
   "execution_count": 9,
   "metadata": {},
   "outputs": [
    {
     "data": {
      "text/plain": [
       "date                 user            ip              hostname       \n",
       "2017-03-30 15:50:00  elastic_user_0  24.151.103.17   ip-10-77-20-248    115\n",
       "2017-03-30 16:00:00  elastic_user_0  24.151.103.17   ip-10-77-20-248     32\n",
       "2017-04-11 14:00:00  root            77.231.252.103  ip-10-77-20-248      4\n",
       "2017-04-13 04:20:00  root            122.163.61.218  ip-10-77-20-248      4\n",
       "2017-04-13 07:20:00  root            14.54.210.101   ip-10-77-20-248      4\n",
       "2017-04-18 15:00:00  root            221.194.44.190  ip-10-77-20-248      6\n",
       "2017-04-19 17:10:00  root            201.178.81.113  ip-10-77-20-248      8\n",
       "dtype: int64"
      ]
     },
     "execution_count": 9,
     "metadata": {},
     "output_type": "execute_result"
    }
   ],
   "source": [
    "detector = Gaussian1D()\n",
    "detector.fit(x[:10])\n",
    "detector_output = detector.flag_anomaly(x)\n",
    "x[list(detector_output)]"
   ]
  },
  {
   "cell_type": "code",
   "execution_count": null,
   "metadata": {},
   "outputs": [],
   "source": []
  },
  {
   "cell_type": "markdown",
   "metadata": {},
   "source": [
    "### Percentile1D"
   ]
  },
  {
   "cell_type": "code",
   "execution_count": 10,
   "metadata": {},
   "outputs": [
    {
     "data": {
      "text/plain": [
       "date                 user            ip              hostname       \n",
       "2017-03-30 15:50:00  elastic_user_0  24.151.103.17   ip-10-77-20-248    115\n",
       "2017-03-30 16:00:00  elastic_user_0  24.151.103.17   ip-10-77-20-248     32\n",
       "2017-04-11 14:00:00  root            77.231.252.103  ip-10-77-20-248      4\n",
       "2017-04-13 04:20:00  root            122.163.61.218  ip-10-77-20-248      4\n",
       "2017-04-13 07:20:00  root            14.54.210.101   ip-10-77-20-248      4\n",
       "2017-04-18 15:00:00  root            221.194.44.190  ip-10-77-20-248      6\n",
       "2017-04-19 17:10:00  root            201.178.81.113  ip-10-77-20-248      8\n",
       "dtype: int64"
      ]
     },
     "execution_count": 10,
     "metadata": {},
     "output_type": "execute_result"
    }
   ],
   "source": [
    "detector = Percentile1D()\n",
    "detector.fit(x[:10])\n",
    "detector_output = detector.flag_anomaly(x)\n",
    "x[list(detector_output)]"
   ]
  },
  {
   "cell_type": "code",
   "execution_count": null,
   "metadata": {},
   "outputs": [],
   "source": []
  }
 ],
 "metadata": {
  "kernelspec": {
   "display_name": "Python 3",
   "language": "python",
   "name": "python3"
  },
  "language_info": {
   "codemirror_mode": {
    "name": "ipython",
    "version": 3
   },
   "file_extension": ".py",
   "mimetype": "text/x-python",
   "name": "python",
   "nbconvert_exporter": "python",
   "pygments_lexer": "ipython3",
   "version": "3.5.4"
  }
 },
 "nbformat": 4,
 "nbformat_minor": 2
}
